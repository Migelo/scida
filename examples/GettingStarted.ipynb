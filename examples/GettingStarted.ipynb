{
 "cells": [
  {
   "cell_type": "markdown",
   "id": "967a3456",
   "metadata": {},
   "source": [
    "# Load a snapshot"
   ]
  },
  {
   "cell_type": "code",
   "execution_count": 1,
   "id": "f633ab1e",
   "metadata": {},
   "outputs": [
    {
     "name": "stderr",
     "output_type": "stream",
     "text": [
      "WARNING:root:No caching directory specified. Initial file read will remain slow.\n"
     ]
    },
    {
     "name": "stdout",
     "output_type": "stream",
     "text": [
      "/Header NumPart_ThisFile has different values.\n"
     ]
    }
   ],
   "source": [
    "from darepo.interface import ArepoSnapshot\n",
    "fp = \"/data/cbyrohl/TNGdata/TNG50-4/output/snapdir_042\"\n",
    "snp = ArepoSnapshot(fp)"
   ]
  },
  {
   "cell_type": "markdown",
   "id": "e2a90684",
   "metadata": {},
   "source": [
    "# Get familiar with a snapshot"
   ]
  },
  {
   "cell_type": "markdown",
   "id": "a0ceb8b8",
   "metadata": {},
   "source": [
    "## Header data and alike\n",
    "The snapshot contains a dictionary for the AREPO simulation header, config and parameters in its namespace. We can e.g. inspect the header:"
   ]
  },
  {
   "cell_type": "code",
   "execution_count": 2,
   "id": "78e04988",
   "metadata": {},
   "outputs": [
    {
     "data": {
      "text/plain": [
       "{'BoxSize': 35000.0,\n",
       " 'Composition_vector_length': 0,\n",
       " 'Flag_Cooling': 1,\n",
       " 'Flag_DoublePrecision': 0,\n",
       " 'Flag_Feedback': 1,\n",
       " 'Flag_Metals': 0,\n",
       " 'Flag_Sfr': 1,\n",
       " 'Flag_StellarAge': 0,\n",
       " 'Git_commit': b'unknown',\n",
       " 'Git_date': b'unknown',\n",
       " 'HubbleParam': 0.6774,\n",
       " 'MassTable': array([0.        , 0.01573723, 0.        , 0.00293826, 0.        ,\n",
       "        0.        ]),\n",
       " 'NumFilesPerSnapshot': 11,\n",
       " 'NumPart_ThisFile': array([[1783426, 1845988,       0, 1918983,   40338,     303],\n",
       "        [1699979, 1766137,       0, 1851405,   31727,     306],\n",
       "        [1701346, 1756764,       0, 1748680,   27667,     302],\n",
       "        [1774641, 1847539,       0, 1809609,   30550,     316],\n",
       "        [1696770, 1759893,       0, 1730103,   25341,     315],\n",
       "        [1710133, 1774249,       0, 1747408,   28047,     306],\n",
       "        [1697938, 1759720,       0, 1730037,   22568,     343],\n",
       "        [1779646, 1858632,       0, 1814745,   27837,     341],\n",
       "        [1710163, 1769841,       0, 1747872,   29342,     283],\n",
       "        [1698500, 1771385,       0, 1734398,   25917,     321],\n",
       "        [1694282, 1772852,       0, 1849760,   24104,     318]],\n",
       "       dtype=int32),\n",
       " 'NumPart_Total': array([18946824, 19683000,        0, 19683000,   313438,     3454],\n",
       "       dtype=uint32),\n",
       " 'NumPart_Total_HighWord': array([0, 0, 0, 0, 0, 0], dtype=uint32),\n",
       " 'Omega0': 0.3089,\n",
       " 'OmegaBaryon': 0.0486,\n",
       " 'OmegaLambda': 0.6911,\n",
       " 'Redshift': 1.3575766674029972,\n",
       " 'Time': 0.42416436072959446,\n",
       " 'UnitLength_in_cm': 3.085678e+21,\n",
       " 'UnitMass_in_g': 1.989e+43,\n",
       " 'UnitVelocity_in_cm_per_s': 100000.0}"
      ]
     },
     "execution_count": 2,
     "metadata": {},
     "output_type": "execute_result"
    }
   ],
   "source": [
    "snp.header"
   ]
  },
  {
   "cell_type": "markdown",
   "id": "76109357",
   "metadata": {},
   "source": [
    "Note that only keys that are the same across all snapshot snap_\\*\\*\\*.hdf5 are the copied over. Some keys change for the individual files, e.g. for 'NumPart_ThisFile'. In this case, the entries are stacked along the first axis, so that we have access to all information:"
   ]
  },
  {
   "cell_type": "code",
   "execution_count": 3,
   "id": "51eef442",
   "metadata": {},
   "outputs": [
    {
     "data": {
      "text/plain": [
       "array([[1783426, 1845988,       0, 1918983,   40338,     303],\n",
       "       [1699979, 1766137,       0, 1851405,   31727,     306],\n",
       "       [1701346, 1756764,       0, 1748680,   27667,     302],\n",
       "       [1774641, 1847539,       0, 1809609,   30550,     316],\n",
       "       [1696770, 1759893,       0, 1730103,   25341,     315],\n",
       "       [1710133, 1774249,       0, 1747408,   28047,     306],\n",
       "       [1697938, 1759720,       0, 1730037,   22568,     343],\n",
       "       [1779646, 1858632,       0, 1814745,   27837,     341],\n",
       "       [1710163, 1769841,       0, 1747872,   29342,     283],\n",
       "       [1698500, 1771385,       0, 1734398,   25917,     321],\n",
       "       [1694282, 1772852,       0, 1849760,   24104,     318]],\n",
       "      dtype=int32)"
      ]
     },
     "execution_count": 3,
     "metadata": {},
     "output_type": "execute_result"
    }
   ],
   "source": [
    "snp.header['NumPart_ThisFile']"
   ]
  },
  {
   "cell_type": "markdown",
   "id": "b393325b",
   "metadata": {},
   "source": [
    "## Particle data"
   ]
  },
  {
   "cell_type": "markdown",
   "id": "28916008",
   "metadata": {},
   "source": [
    "snp.datadict holds all the particle data stacked to a virtual single array per field via dask arrays."
   ]
  },
  {
   "cell_type": "code",
   "execution_count": 4,
   "id": "62e12260",
   "metadata": {},
   "outputs": [
    {
     "name": "stdout",
     "output_type": "stream",
     "text": [
      "dict_keys(['PartType0', 'PartType1', 'PartType3', 'PartType4', 'PartType5'])\n"
     ]
    }
   ],
   "source": [
    "print(snp.datadict.keys())"
   ]
  },
  {
   "cell_type": "markdown",
   "id": "41ac306e",
   "metadata": {},
   "source": [
    "Let's list all fields available for the respective particle species."
   ]
  },
  {
   "cell_type": "code",
   "execution_count": 5,
   "id": "f87c124e",
   "metadata": {},
   "outputs": [
    {
     "name": "stdout",
     "output_type": "stream",
     "text": [
      "Species: PartType0\n",
      "dict_keys(['Coordinates', 'Density', 'ElectronAbundance', 'GFM_Metallicity', 'InternalEnergy', 'Masses', 'ParticleIDs', 'StarFormationRate', 'Velocities'])\n",
      "\n",
      "Species: PartType1\n",
      "dict_keys(['Coordinates', 'ParticleIDs', 'Velocities'])\n",
      "\n",
      "Species: PartType3\n",
      "dict_keys(['ParentID', 'TracerID'])\n",
      "\n",
      "Species: PartType4\n",
      "dict_keys(['Coordinates', 'GFM_InitialMass', 'GFM_Metallicity', 'GFM_StellarFormationTime', 'Masses', 'ParticleIDs', 'Potential', 'StellarHsml', 'Velocities'])\n",
      "\n",
      "Species: PartType5\n",
      "dict_keys(['BH_BPressure', 'BH_CumEgyInjection_QM', 'BH_CumEgyInjection_RM', 'BH_CumMassGrowth_QM', 'BH_CumMassGrowth_RM', 'BH_Density', 'BH_HostHaloMass', 'BH_Hsml', 'BH_Mass', 'BH_Mdot', 'BH_MdotBondi', 'BH_MdotEddington', 'BH_Pressure', 'BH_Progs', 'BH_U', 'Coordinates', 'Masses', 'ParticleIDs', 'Potential', 'Velocities'])\n",
      "\n"
     ]
    }
   ],
   "source": [
    "for k,p in snp.datadict.items():\n",
    "    print(\"Species:\",k)\n",
    "    print(p.keys())\n",
    "    print()"
   ]
  },
  {
   "cell_type": "markdown",
   "id": "a4e762a4",
   "metadata": {},
   "source": [
    "All this data is held on harddrive. With the above snapshot instance, we however have convenient way to access the data with dask."
   ]
  },
  {
   "cell_type": "markdown",
   "id": "4e2c11f9",
   "metadata": {},
   "source": [
    "# Using snapshot data"
   ]
  },
  {
   "cell_type": "markdown",
   "id": "f4c6f8bd",
   "metadata": {},
   "source": [
    "A field behaves very similar to a numpy array. Let's say we want to calculate the mean mass of gas cells in the simulation. Just as in numpy this would be:"
   ]
  },
  {
   "cell_type": "code",
   "execution_count": 6,
   "id": "d44c0f35",
   "metadata": {},
   "outputs": [],
   "source": [
    "mass = snp.datadict[\"PartType0\"][\"Masses\"]\n",
    "task = mass.sum()"
   ]
  },
  {
   "cell_type": "markdown",
   "id": "30b60a3b",
   "metadata": {},
   "source": [
    "Note that all objects remain 'virtual', they are not calculated or loaded from disk but merely the required instructions are encoded into tasks."
   ]
  },
  {
   "cell_type": "code",
   "execution_count": 7,
   "id": "23525145",
   "metadata": {},
   "outputs": [
    {
     "data": {
      "text/html": [
       "<table>\n",
       "    <tr>\n",
       "        <td>\n",
       "            <table>\n",
       "                <thead>\n",
       "                    <tr>\n",
       "                        <td> </td>\n",
       "                        <th> Array </th>\n",
       "                        <th> Chunk </th>\n",
       "                    </tr>\n",
       "                </thead>\n",
       "                <tbody>\n",
       "                    \n",
       "                    <tr>\n",
       "                        <th> Bytes </th>\n",
       "                        <td> 72.28 MiB </td>\n",
       "                        <td> 72.28 MiB </td>\n",
       "                    </tr>\n",
       "                    \n",
       "                    <tr>\n",
       "                        <th> Shape </th>\n",
       "                        <td> (18946824,) </td>\n",
       "                        <td> (18946824,) </td>\n",
       "                    </tr>\n",
       "                    <tr>\n",
       "                        <th> Count </th>\n",
       "                        <td> 2 Tasks </td>\n",
       "                        <td> 1 Chunks </td>\n",
       "                    </tr>\n",
       "                    <tr>\n",
       "                    <th> Type </th>\n",
       "                    <td> float32 </td>\n",
       "                    <td> numpy.ndarray </td>\n",
       "                    </tr>\n",
       "                </tbody>\n",
       "            </table>\n",
       "        </td>\n",
       "        <td>\n",
       "        <svg width=\"170\" height=\"75\" style=\"stroke:rgb(0,0,0);stroke-width:1\" >\n",
       "\n",
       "  <!-- Horizontal lines -->\n",
       "  <line x1=\"0\" y1=\"0\" x2=\"120\" y2=\"0\" style=\"stroke-width:2\" />\n",
       "  <line x1=\"0\" y1=\"25\" x2=\"120\" y2=\"25\" style=\"stroke-width:2\" />\n",
       "\n",
       "  <!-- Vertical lines -->\n",
       "  <line x1=\"0\" y1=\"0\" x2=\"0\" y2=\"25\" style=\"stroke-width:2\" />\n",
       "  <line x1=\"120\" y1=\"0\" x2=\"120\" y2=\"25\" style=\"stroke-width:2\" />\n",
       "\n",
       "  <!-- Colored Rectangle -->\n",
       "  <polygon points=\"0.0,0.0 120.0,0.0 120.0,25.412616514582485 0.0,25.412616514582485\" style=\"fill:#ECB172A0;stroke-width:0\"/>\n",
       "\n",
       "  <!-- Text -->\n",
       "  <text x=\"60.000000\" y=\"45.412617\" font-size=\"1.0rem\" font-weight=\"100\" text-anchor=\"middle\" >18946824</text>\n",
       "  <text x=\"140.000000\" y=\"12.706308\" font-size=\"1.0rem\" font-weight=\"100\" text-anchor=\"middle\" transform=\"rotate(0,140.000000,12.706308)\">1</text>\n",
       "</svg>\n",
       "        </td>\n",
       "    </tr>\n",
       "</table>"
      ],
      "text/plain": [
       "dask.array<array, shape=(18946824,), dtype=float32, chunksize=(18946824,), chunktype=numpy.ndarray>"
      ]
     },
     "execution_count": 7,
     "metadata": {},
     "output_type": "execute_result"
    }
   ],
   "source": [
    "mass"
   ]
  },
  {
   "cell_type": "code",
   "execution_count": 8,
   "id": "c4707488",
   "metadata": {},
   "outputs": [
    {
     "data": {
      "text/html": [
       "<table>\n",
       "    <tr>\n",
       "        <td>\n",
       "            <table>\n",
       "                <thead>\n",
       "                    <tr>\n",
       "                        <td> </td>\n",
       "                        <th> Array </th>\n",
       "                        <th> Chunk </th>\n",
       "                    </tr>\n",
       "                </thead>\n",
       "                <tbody>\n",
       "                    \n",
       "                    <tr>\n",
       "                        <th> Bytes </th>\n",
       "                        <td> 4 B </td>\n",
       "                        <td> 4.0 B </td>\n",
       "                    </tr>\n",
       "                    \n",
       "                    <tr>\n",
       "                        <th> Shape </th>\n",
       "                        <td> () </td>\n",
       "                        <td> () </td>\n",
       "                    </tr>\n",
       "                    <tr>\n",
       "                        <th> Count </th>\n",
       "                        <td> 4 Tasks </td>\n",
       "                        <td> 1 Chunks </td>\n",
       "                    </tr>\n",
       "                    <tr>\n",
       "                    <th> Type </th>\n",
       "                    <td> float32 </td>\n",
       "                    <td> numpy.ndarray </td>\n",
       "                    </tr>\n",
       "                </tbody>\n",
       "            </table>\n",
       "        </td>\n",
       "        <td>\n",
       "        \n",
       "        </td>\n",
       "    </tr>\n",
       "</table>"
      ],
      "text/plain": [
       "dask.array<sum-aggregate, shape=(), dtype=float32, chunksize=(), chunktype=numpy.ndarray>"
      ]
     },
     "execution_count": 8,
     "metadata": {},
     "output_type": "execute_result"
    }
   ],
   "source": [
    "task"
   ]
  },
  {
   "cell_type": "markdown",
   "id": "baafd89b",
   "metadata": {},
   "source": [
    "We can calculate the respective operations by applying the *.compute()* method to the task."
   ]
  },
  {
   "cell_type": "code",
   "execution_count": 9,
   "id": "3b4340ec",
   "metadata": {},
   "outputs": [
    {
     "data": {
      "text/plain": [
       "57044.957"
      ]
     },
     "execution_count": 9,
     "metadata": {},
     "output_type": "execute_result"
    }
   ],
   "source": [
    "task.compute()"
   ]
  },
  {
   "cell_type": "markdown",
   "id": "50901a1f",
   "metadata": {},
   "source": [
    "Let's do a poor man's projection of the simulation in dask."
   ]
  },
  {
   "cell_type": "code",
   "execution_count": 10,
   "id": "ece16f88",
   "metadata": {},
   "outputs": [],
   "source": [
    "import dask.array as da\n",
    "import numpy as np\n",
    "coords = snp.datadict[\"PartType0\"][\"Coordinates\"]\n",
    "x = coords[:,0]\n",
    "y = coords[:,1]\n",
    "result = da.histogram2d(x,y,bins=[np.linspace(0,35000,128),np.linspace(0,35000,128)])\n",
    "slcmap = result[0].compute()"
   ]
  },
  {
   "cell_type": "code",
   "execution_count": 11,
   "id": "a567ff98",
   "metadata": {},
   "outputs": [
    {
     "data": {
      "image/png": "[encoded data removed]",
      "text/plain": [
       "<Figure size 432x288 with 1 Axes>"
      ]
     },
     "metadata": {
      "needs_background": "light"
     },
     "output_type": "display_data"
    }
   ],
   "source": [
    "import matplotlib.pyplot as plt\n",
    "from matplotlib.colors import LogNorm\n",
    "plt.imshow(slcmap,norm=LogNorm())\n",
    "plt.show()"
   ]
  },
  {
   "cell_type": "markdown",
   "id": "697522bd",
   "metadata": {},
   "source": [
    "# Scaling up"
   ]
  },
  {
   "cell_type": "markdown",
   "id": "ae8ea085",
   "metadata": {},
   "source": [
    "Until now, we have applied our framework to a very small simulation. Let's say we have a very large simulation. We could still run it with the above snippets and it would probably work: Dask chunks up work into pieces that can be calculated in parallel or/and sequentially depending on available resources. So even if the *mass* array from above does not fit into memory, the *mass.sum().compute()* will chunk the operation up in a way that the task can be calculated.\n",
    "\n",
    "Rather than sequentially calculating bigger tasks, we want to do it in parallel. For this, we have different advanced dask schedulers available. Here, we use the most straight forward distributed scheduler *distributed*. Usually, we would start a scheduler and then connect new workers (e.g. running on compute/backend nodes of HPC clusters). We can then interactively leverage the power of the connected resources. For this example, we however just use the same API, but remain local. See [here](http://distributed.dask.org/en/stable/) for more details."
   ]
  },
  {
   "cell_type": "code",
   "execution_count": 12,
   "id": "f8c63e90",
   "metadata": {},
   "outputs": [
    {
     "data": {
      "text/html": [
       "<div>\n",
       "    <div style=\"width: 24px; height: 24px; background-color: #e1e1e1; border: 3px solid #9D9D9D; border-radius: 5px; position: absolute;\"> </div>\n",
       "    <div style=\"margin-left: 48px;\">\n",
       "        <h3 style=\"margin-bottom: 0px;\">Client</h3>\n",
       "        <p style=\"color: #9D9D9D; margin-bottom: 0px;\">Client-8cc5cb8a-7310-11ec-8b5a-2cfda17087b0</p>\n",
       "        <table style=\"width: 100%; text-align: left;\">\n",
       "\n",
       "        <tr>\n",
       "        \n",
       "            <td style=\"text-align: left;\"><strong>Connection method:</strong> Cluster object</td>\n",
       "            <td style=\"text-align: left;\"><strong>Cluster type:</strong> distributed.LocalCluster</td>\n",
       "        \n",
       "        </tr>\n",
       "\n",
       "        \n",
       "            <tr>\n",
       "                <td style=\"text-align: left;\">\n",
       "                    <strong>Dashboard: </strong> <a href=\"http://127.0.0.1:8765/status\" target=\"_blank\">http://127.0.0.1:8765/status</a>\n",
       "                </td>\n",
       "                <td style=\"text-align: left;\"></td>\n",
       "            </tr>\n",
       "        \n",
       "\n",
       "        </table>\n",
       "\n",
       "        \n",
       "            <details>\n",
       "            <summary style=\"margin-bottom: 20px;\"><h3 style=\"display: inline;\">Cluster Info</h3></summary>\n",
       "            <div class=\"jp-RenderedHTMLCommon jp-RenderedHTML jp-mod-trusted jp-OutputArea-output\">\n",
       "    <div style=\"width: 24px; height: 24px; background-color: #e1e1e1; border: 3px solid #9D9D9D; border-radius: 5px; position: absolute;\">\n",
       "    </div>\n",
       "    <div style=\"margin-left: 48px;\">\n",
       "        <h3 style=\"margin-bottom: 0px; margin-top: 0px;\">LocalCluster</h3>\n",
       "        <p style=\"color: #9D9D9D; margin-bottom: 0px;\">4ed3d921</p>\n",
       "        <table style=\"width: 100%; text-align: left;\">\n",
       "            <tr>\n",
       "                <td style=\"text-align: left;\">\n",
       "                    <strong>Dashboard:</strong> <a href=\"http://127.0.0.1:8765/status\" target=\"_blank\">http://127.0.0.1:8765/status</a>\n",
       "                </td>\n",
       "                <td style=\"text-align: left;\">\n",
       "                    <strong>Workers:</strong> 4\n",
       "                </td>\n",
       "            </tr>\n",
       "            <tr>\n",
       "                <td style=\"text-align: left;\">\n",
       "                    <strong>Total threads:</strong> 4\n",
       "                </td>\n",
       "                <td style=\"text-align: left;\">\n",
       "                    <strong>Total memory:</strong> 31.35 GiB\n",
       "                </td>\n",
       "            </tr>\n",
       "            \n",
       "            <tr>\n",
       "    <td style=\"text-align: left;\"><strong>Status:</strong> running</td>\n",
       "    <td style=\"text-align: left;\"><strong>Using processes:</strong> True</td>\n",
       "</tr>\n",
       "\n",
       "            \n",
       "        </table>\n",
       "\n",
       "        <details>\n",
       "            <summary style=\"margin-bottom: 20px;\">\n",
       "                <h3 style=\"display: inline;\">Scheduler Info</h3>\n",
       "            </summary>\n",
       "\n",
       "            <div style=\"\">\n",
       "    <div>\n",
       "        <div style=\"width: 24px; height: 24px; background-color: #FFF7E5; border: 3px solid #FF6132; border-radius: 5px; position: absolute;\"> </div>\n",
       "        <div style=\"margin-left: 48px;\">\n",
       "            <h3 style=\"margin-bottom: 0px;\">Scheduler</h3>\n",
       "            <p style=\"color: #9D9D9D; margin-bottom: 0px;\">Scheduler-26c0f0df-aaa3-4d34-aa03-e00fe432b149</p>\n",
       "            <table style=\"width: 100%; text-align: left;\">\n",
       "                <tr>\n",
       "                    <td style=\"text-align: left;\">\n",
       "                        <strong>Comm:</strong> tcp://127.0.0.1:45261\n",
       "                    </td>\n",
       "                    <td style=\"text-align: left;\">\n",
       "                        <strong>Workers:</strong> 4\n",
       "                    </td>\n",
       "                </tr>\n",
       "                <tr>\n",
       "                    <td style=\"text-align: left;\">\n",
       "                        <strong>Dashboard:</strong> <a href=\"http://127.0.0.1:8765/status\" target=\"_blank\">http://127.0.0.1:8765/status</a>\n",
       "                    </td>\n",
       "                    <td style=\"text-align: left;\">\n",
       "                        <strong>Total threads:</strong> 4\n",
       "                    </td>\n",
       "                </tr>\n",
       "                <tr>\n",
       "                    <td style=\"text-align: left;\">\n",
       "                        <strong>Started:</strong> Just now\n",
       "                    </td>\n",
       "                    <td style=\"text-align: left;\">\n",
       "                        <strong>Total memory:</strong> 31.35 GiB\n",
       "                    </td>\n",
       "                </tr>\n",
       "            </table>\n",
       "        </div>\n",
       "    </div>\n",
       "\n",
       "    <details style=\"margin-left: 48px;\">\n",
       "        <summary style=\"margin-bottom: 20px;\">\n",
       "            <h3 style=\"display: inline;\">Workers</h3>\n",
       "        </summary>\n",
       "\n",
       "        \n",
       "        <div style=\"margin-bottom: 20px;\">\n",
       "            <div style=\"width: 24px; height: 24px; background-color: #DBF5FF; border: 3px solid #4CC9FF; border-radius: 5px; position: absolute;\"> </div>\n",
       "            <div style=\"margin-left: 48px;\">\n",
       "            <details>\n",
       "                <summary>\n",
       "                    <h4 style=\"margin-bottom: 0px; display: inline;\">Worker: 0</h4>\n",
       "                </summary>\n",
       "                <table style=\"width: 100%; text-align: left;\">\n",
       "                    <tr>\n",
       "                        <td style=\"text-align: left;\">\n",
       "                            <strong>Comm: </strong> tcp://127.0.0.1:37093\n",
       "                        </td>\n",
       "                        <td style=\"text-align: left;\">\n",
       "                            <strong>Total threads: </strong> 1\n",
       "                        </td>\n",
       "                    </tr>\n",
       "                    <tr>\n",
       "                        <td style=\"text-align: left;\">\n",
       "                            <strong>Dashboard: </strong> <a href=\"http://127.0.0.1:46807/status\" target=\"_blank\">http://127.0.0.1:46807/status</a>\n",
       "                        </td>\n",
       "                        <td style=\"text-align: left;\">\n",
       "                            <strong>Memory: </strong> 7.84 GiB\n",
       "                        </td>\n",
       "                    </tr>\n",
       "                    <tr>\n",
       "                        <td style=\"text-align: left;\">\n",
       "                            <strong>Nanny: </strong> tcp://127.0.0.1:42659\n",
       "                        </td>\n",
       "                        <td style=\"text-align: left;\"></td>\n",
       "                    </tr>\n",
       "                    <tr>\n",
       "                        <td colspan=\"2\" style=\"text-align: left;\">\n",
       "                            <strong>Local directory: </strong> /data/cbyrohl/repos/darepo/examples/dask-worker-space/worker-ko7pnae8\n",
       "                        </td>\n",
       "                    </tr>\n",
       "\n",
       "                    \n",
       "\n",
       "                    \n",
       "\n",
       "                </table>\n",
       "            </details>\n",
       "            </div>\n",
       "        </div>\n",
       "        \n",
       "        <div style=\"margin-bottom: 20px;\">\n",
       "            <div style=\"width: 24px; height: 24px; background-color: #DBF5FF; border: 3px solid #4CC9FF; border-radius: 5px; position: absolute;\"> </div>\n",
       "            <div style=\"margin-left: 48px;\">\n",
       "            <details>\n",
       "                <summary>\n",
       "                    <h4 style=\"margin-bottom: 0px; display: inline;\">Worker: 1</h4>\n",
       "                </summary>\n",
       "                <table style=\"width: 100%; text-align: left;\">\n",
       "                    <tr>\n",
       "                        <td style=\"text-align: left;\">\n",
       "                            <strong>Comm: </strong> tcp://127.0.0.1:43739\n",
       "                        </td>\n",
       "                        <td style=\"text-align: left;\">\n",
       "                            <strong>Total threads: </strong> 1\n",
       "                        </td>\n",
       "                    </tr>\n",
       "                    <tr>\n",
       "                        <td style=\"text-align: left;\">\n",
       "                            <strong>Dashboard: </strong> <a href=\"http://127.0.0.1:42763/status\" target=\"_blank\">http://127.0.0.1:42763/status</a>\n",
       "                        </td>\n",
       "                        <td style=\"text-align: left;\">\n",
       "                            <strong>Memory: </strong> 7.84 GiB\n",
       "                        </td>\n",
       "                    </tr>\n",
       "                    <tr>\n",
       "                        <td style=\"text-align: left;\">\n",
       "                            <strong>Nanny: </strong> tcp://127.0.0.1:40443\n",
       "                        </td>\n",
       "                        <td style=\"text-align: left;\"></td>\n",
       "                    </tr>\n",
       "                    <tr>\n",
       "                        <td colspan=\"2\" style=\"text-align: left;\">\n",
       "                            <strong>Local directory: </strong> /data/cbyrohl/repos/darepo/examples/dask-worker-space/worker-qt85fh05\n",
       "                        </td>\n",
       "                    </tr>\n",
       "\n",
       "                    \n",
       "\n",
       "                    \n",
       "\n",
       "                </table>\n",
       "            </details>\n",
       "            </div>\n",
       "        </div>\n",
       "        \n",
       "        <div style=\"margin-bottom: 20px;\">\n",
       "            <div style=\"width: 24px; height: 24px; background-color: #DBF5FF; border: 3px solid #4CC9FF; border-radius: 5px; position: absolute;\"> </div>\n",
       "            <div style=\"margin-left: 48px;\">\n",
       "            <details>\n",
       "                <summary>\n",
       "                    <h4 style=\"margin-bottom: 0px; display: inline;\">Worker: 2</h4>\n",
       "                </summary>\n",
       "                <table style=\"width: 100%; text-align: left;\">\n",
       "                    <tr>\n",
       "                        <td style=\"text-align: left;\">\n",
       "                            <strong>Comm: </strong> tcp://127.0.0.1:36281\n",
       "                        </td>\n",
       "                        <td style=\"text-align: left;\">\n",
       "                            <strong>Total threads: </strong> 1\n",
       "                        </td>\n",
       "                    </tr>\n",
       "                    <tr>\n",
       "                        <td style=\"text-align: left;\">\n",
       "                            <strong>Dashboard: </strong> <a href=\"http://127.0.0.1:40835/status\" target=\"_blank\">http://127.0.0.1:40835/status</a>\n",
       "                        </td>\n",
       "                        <td style=\"text-align: left;\">\n",
       "                            <strong>Memory: </strong> 7.84 GiB\n",
       "                        </td>\n",
       "                    </tr>\n",
       "                    <tr>\n",
       "                        <td style=\"text-align: left;\">\n",
       "                            <strong>Nanny: </strong> tcp://127.0.0.1:33441\n",
       "                        </td>\n",
       "                        <td style=\"text-align: left;\"></td>\n",
       "                    </tr>\n",
       "                    <tr>\n",
       "                        <td colspan=\"2\" style=\"text-align: left;\">\n",
       "                            <strong>Local directory: </strong> /data/cbyrohl/repos/darepo/examples/dask-worker-space/worker-mx8i5xp4\n",
       "                        </td>\n",
       "                    </tr>\n",
       "\n",
       "                    \n",
       "\n",
       "                    \n",
       "\n",
       "                </table>\n",
       "            </details>\n",
       "            </div>\n",
       "        </div>\n",
       "        \n",
       "        <div style=\"margin-bottom: 20px;\">\n",
       "            <div style=\"width: 24px; height: 24px; background-color: #DBF5FF; border: 3px solid #4CC9FF; border-radius: 5px; position: absolute;\"> </div>\n",
       "            <div style=\"margin-left: 48px;\">\n",
       "            <details>\n",
       "                <summary>\n",
       "                    <h4 style=\"margin-bottom: 0px; display: inline;\">Worker: 3</h4>\n",
       "                </summary>\n",
       "                <table style=\"width: 100%; text-align: left;\">\n",
       "                    <tr>\n",
       "                        <td style=\"text-align: left;\">\n",
       "                            <strong>Comm: </strong> tcp://127.0.0.1:43201\n",
       "                        </td>\n",
       "                        <td style=\"text-align: left;\">\n",
       "                            <strong>Total threads: </strong> 1\n",
       "                        </td>\n",
       "                    </tr>\n",
       "                    <tr>\n",
       "                        <td style=\"text-align: left;\">\n",
       "                            <strong>Dashboard: </strong> <a href=\"http://127.0.0.1:44939/status\" target=\"_blank\">http://127.0.0.1:44939/status</a>\n",
       "                        </td>\n",
       "                        <td style=\"text-align: left;\">\n",
       "                            <strong>Memory: </strong> 7.84 GiB\n",
       "                        </td>\n",
       "                    </tr>\n",
       "                    <tr>\n",
       "                        <td style=\"text-align: left;\">\n",
       "                            <strong>Nanny: </strong> tcp://127.0.0.1:32953\n",
       "                        </td>\n",
       "                        <td style=\"text-align: left;\"></td>\n",
       "                    </tr>\n",
       "                    <tr>\n",
       "                        <td colspan=\"2\" style=\"text-align: left;\">\n",
       "                            <strong>Local directory: </strong> /data/cbyrohl/repos/darepo/examples/dask-worker-space/worker-scxk3he4\n",
       "                        </td>\n",
       "                    </tr>\n",
       "\n",
       "                    \n",
       "\n",
       "                    \n",
       "\n",
       "                </table>\n",
       "            </details>\n",
       "            </div>\n",
       "        </div>\n",
       "        \n",
       "\n",
       "    </details>\n",
       "</div>\n",
       "\n",
       "        </details>\n",
       "    </div>\n",
       "</div>\n",
       "            </details>\n",
       "        \n",
       "\n",
       "    </div>\n",
       "</div>"
      ],
      "text/plain": [
       "<Client: 'tcp://127.0.0.1:45261' processes=4 threads=4, memory=31.35 GiB>"
      ]
     },
     "execution_count": 12,
     "metadata": {},
     "output_type": "execute_result"
    }
   ],
   "source": [
    "from dask.distributed import Client, LocalCluster\n",
    "cluster = LocalCluster(n_workers=4,threads_per_worker=1,dashboard_address=':8765')\n",
    "client = Client(cluster)\n",
    "client"
   ]
  },
  {
   "cell_type": "markdown",
   "id": "e6942e59",
   "metadata": {},
   "source": [
    "We can now perform the same operations, but it is performed on distributed processes (local and remote!)."
   ]
  }
 ],
 "metadata": {
  "kernelspec": {
   "display_name": "darepo39",
   "language": "python",
   "name": "darepo39"
  },
  "language_info": {
   "codemirror_mode": {
    "name": "ipython",
    "version": 3
   },
   "file_extension": ".py",
   "mimetype": "text/x-python",
   "name": "python",
   "nbconvert_exporter": "python",
   "pygments_lexer": "ipython3",
   "version": "3.9.7"
  }
 },
 "nbformat": 4,
 "nbformat_minor": 5
}

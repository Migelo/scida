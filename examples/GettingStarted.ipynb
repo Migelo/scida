{
 "cells": [
  {
   "cell_type": "markdown",
   "id": "acca9637-fe84-4a1a-ba2a-c5831a5006d9",
   "metadata": {},
   "source": [
    "# darepo"
   ]
  },
  {
   "cell_type": "markdown",
   "id": "f5c6f686-9412-497c-9694-a553c36cc865",
   "metadata": {},
   "source": [
    "This package is designed to aid in the efficient analysis of large simulations, such as cosmological (hydrodynamical) simulations of large-scale structure.\n",
    "\n",
    "It uses the [dask](https://dask.org/) library to perform computations, which has two key advantages:\n",
    "* (i) very large datasets which cannot normally fit into memory can be analyzed, and\n",
    "* (ii) calculations can be automatically distributed onto parallel 'workers', across one or more (MPI) nodes, to speed them up."
   ]
  },
  {
   "cell_type": "markdown",
   "id": "3bafbcf1",
   "metadata": {
    "tags": []
   },
   "source": [
    "# [0] Select a simulation and snapshot"
   ]
  },
  {
   "cell_type": "markdown",
   "id": "8e4b3ec1-a0cc-4596-a0d0-b3bced75d22a",
   "metadata": {},
   "source": [
    "The first step is to chose an existing snapshot of a simulation. To start, we will intentionally select the $z=0$ output of TNG50-4, which is the lowest resolution version of TNG50. This means that the size of data in the snapshot is small and easy to work with."
   ]
  },
  {
   "cell_type": "code",
   "execution_count": 4,
   "id": "41d5180c",
   "metadata": {},
   "outputs": [
    {
     "name": "stderr",
     "output_type": "stream",
     "text": [
      "WARNING:root:No caching directory specified. Initial file read will remain slow.\n"
     ]
    }
   ],
   "source": [
    "from darepo.interfaces.arepo import ArepoSnapshot\n",
    "path = \"../../sims.TNG/TNG50-4/output/snapdir_099/\"\n",
    "snap = ArepoSnapshot(path)"
   ]
  },
  {
   "cell_type": "markdown",
   "id": "22ddc3f7",
   "metadata": {},
   "source": [
    "# [1] Get familiar with a snapshot"
   ]
  },
  {
   "cell_type": "markdown",
   "id": "f87fc0a0",
   "metadata": {},
   "source": [
    "## Header metadata\n",
    "The snapshot contains a dictionary for the AREPO simulation header, config and parameters in its namespace. We can inspect the header:"
   ]
  },
  {
   "cell_type": "code",
   "execution_count": 25,
   "id": "2dbe2006",
   "metadata": {},
   "outputs": [
    {
     "data": {
      "text/plain": [
       "{'BoxSize': 35000.0,\n",
       " 'Composition_vector_length': 0,\n",
       " 'Flag_Cooling': 1,\n",
       " 'Flag_DoublePrecision': 0,\n",
       " 'Flag_Feedback': 1,\n",
       " 'Flag_Metals': 0,\n",
       " 'Flag_Sfr': 1,\n",
       " 'Flag_StellarAge': 0,\n",
       " 'Git_commit': b'unknown',\n",
       " 'Git_date': b'unknown',\n",
       " 'HubbleParam': 0.6774,\n",
       " 'MassTable': array([0.        , 0.01573723, 0.        , 0.00293826, 0.        ,\n",
       "        0.        ]),\n",
       " 'NumFilesPerSnapshot': 11,\n",
       " 'NumPart_ThisFile': array([[1728468, 1831882,       0, 1880597,   80303,     331],\n",
       "        [1670262, 1765813,       0, 1774052,   55363,     304],\n",
       "        [1671632, 1774708,       0, 1778657,   46388,     320],\n",
       "        [1750813, 1843665,       0, 1842425,   54654,     344],\n",
       "        [1669237, 1755421,       0, 1757297,   56479,     329],\n",
       "        [1661327, 1762864,       0, 1745473,   54715,     316],\n",
       "        [1667147, 1773846,       0, 1749736,   44611,     304],\n",
       "        [1734838, 1860623,       0, 1822816,   53783,     324],\n",
       "        [1675884, 1750387,       0, 1756475,   52445,     319],\n",
       "        [1653026, 1795059,       0, 1761184,   49953,     284],\n",
       "        [1657470, 1768732,       0, 1814288,   57085,     311]],\n",
       "       dtype=int32),\n",
       " 'NumPart_Total': array([18540104, 19683000,        0, 19683000,   605779,     3486],\n",
       "       dtype=uint32),\n",
       " 'NumPart_Total_HighWord': array([0, 0, 0, 0, 0, 0], dtype=uint32),\n",
       " 'Omega0': 0.3089,\n",
       " 'OmegaBaryon': 0.0486,\n",
       " 'OmegaLambda': 0.6911,\n",
       " 'Redshift': 2.220446049250313e-16,\n",
       " 'Time': 0.9999999999999998,\n",
       " 'UnitLength_in_cm': 3.085678e+21,\n",
       " 'UnitMass_in_g': 1.989e+43,\n",
       " 'UnitVelocity_in_cm_per_s': 100000.0}"
      ]
     },
     "execution_count": 25,
     "metadata": {},
     "output_type": "execute_result"
    }
   ],
   "source": [
    "snap.header"
   ]
  },
  {
   "cell_type": "markdown",
   "id": "bb4870aa",
   "metadata": {},
   "source": [
    "Note that only keys that are the same across all snapshot file chunks are is. \n",
    "Entries which are different for each file, such as `NumPart_ThisFile`, are stacked along the first axis, so that we also have access to this information:"
   ]
  },
  {
   "cell_type": "code",
   "execution_count": 26,
   "id": "7e4d891a",
   "metadata": {},
   "outputs": [
    {
     "data": {
      "text/plain": [
       "array([[1728468, 1831882,       0, 1880597,   80303,     331],\n",
       "       [1670262, 1765813,       0, 1774052,   55363,     304],\n",
       "       [1671632, 1774708,       0, 1778657,   46388,     320],\n",
       "       [1750813, 1843665,       0, 1842425,   54654,     344],\n",
       "       [1669237, 1755421,       0, 1757297,   56479,     329],\n",
       "       [1661327, 1762864,       0, 1745473,   54715,     316],\n",
       "       [1667147, 1773846,       0, 1749736,   44611,     304],\n",
       "       [1734838, 1860623,       0, 1822816,   53783,     324],\n",
       "       [1675884, 1750387,       0, 1756475,   52445,     319],\n",
       "       [1653026, 1795059,       0, 1761184,   49953,     284],\n",
       "       [1657470, 1768732,       0, 1814288,   57085,     311]],\n",
       "      dtype=int32)"
      ]
     },
     "execution_count": 26,
     "metadata": {},
     "output_type": "execute_result"
    }
   ],
   "source": [
    "snap.header['NumPart_ThisFile']"
   ]
  },
  {
   "cell_type": "markdown",
   "id": "9c068f07",
   "metadata": {},
   "source": [
    "## Particle/cell data"
   ]
  },
  {
   "cell_type": "markdown",
   "id": "ba185d31",
   "metadata": {},
   "source": [
    "Within our `snap` object, `snap.data` contains references to all the particle/cell data in this snapshot.\n",
    "\n",
    "If the snapshot is split across multiple file chunks on disk (as is the case for most large cosmological simulations), then these are virtually \"combined\".\n",
    "\n",
    "As a result, there is a single array per field in `snap.data`. Note that these are **not** normal numpy arrays, but are instead **dask arrays**, which we will return to later."
   ]
  },
  {
   "cell_type": "code",
   "execution_count": 27,
   "id": "9f0aaaf5",
   "metadata": {},
   "outputs": [
    {
     "data": {
      "text/plain": [
       "dict_keys(['PartType0', 'PartType1', 'PartType3', 'PartType4', 'PartType5'])"
      ]
     },
     "execution_count": 27,
     "metadata": {},
     "output_type": "execute_result"
    }
   ],
   "source": [
    "snap.data.keys()"
   ]
  },
  {
   "cell_type": "markdown",
   "id": "1a9ce158",
   "metadata": {},
   "source": [
    "Let's list all fields available for the respective particle species."
   ]
  },
  {
   "cell_type": "code",
   "execution_count": 28,
   "id": "22fea0ec",
   "metadata": {},
   "outputs": [
    {
     "name": "stdout",
     "output_type": "stream",
     "text": [
      "Species: PartType0\n",
      "dict_keys(['CenterOfMass', 'Coordinates', 'Density', 'ElectronAbundance', 'EnergyDissipation', 'GFM_AGNRadiation', 'GFM_CoolingRate', 'GFM_Metallicity', 'GFM_Metals', 'GFM_MetalsTagged', 'GFM_WindDMVelDisp', 'GFM_WindHostHaloMass', 'InternalEnergy', 'Machnumber', 'MagneticField', 'MagneticFieldDivergence', 'Masses', 'NeutralHydrogenAbundance', 'ParticleIDs', 'Potential', 'StarFormationRate', 'SubfindDMDensity', 'SubfindDensity', 'SubfindHsml', 'SubfindVelDisp', 'Velocities'])\n",
      "\n",
      "Species: PartType1\n",
      "dict_keys(['Coordinates', 'ParticleIDs', 'Potential', 'SubfindDMDensity', 'SubfindDensity', 'SubfindHsml', 'SubfindVelDisp', 'Velocities'])\n",
      "\n",
      "Species: PartType3\n",
      "dict_keys(['ParentID', 'TracerID'])\n",
      "\n",
      "Species: PartType4\n",
      "dict_keys(['BirthPos', 'BirthVel', 'Coordinates', 'GFM_InitialMass', 'GFM_Metallicity', 'GFM_Metals', 'GFM_MetalsTagged', 'GFM_StellarFormationTime', 'GFM_StellarPhotometrics', 'Masses', 'ParticleIDs', 'Potential', 'StellarHsml', 'SubfindDMDensity', 'SubfindDensity', 'SubfindHsml', 'SubfindVelDisp', 'Velocities'])\n",
      "\n",
      "Species: PartType5\n",
      "dict_keys(['BH_BPressure', 'BH_CumEgyInjection_QM', 'BH_CumEgyInjection_RM', 'BH_CumMassGrowth_QM', 'BH_CumMassGrowth_RM', 'BH_Density', 'BH_HostHaloMass', 'BH_Hsml', 'BH_Mass', 'BH_Mdot', 'BH_MdotBondi', 'BH_MdotEddington', 'BH_Pressure', 'BH_Progs', 'BH_U', 'Coordinates', 'Masses', 'ParticleIDs', 'Potential', 'SubfindDMDensity', 'SubfindDensity', 'SubfindHsml', 'SubfindVelDisp', 'Velocities'])\n",
      "\n"
     ]
    }
   ],
   "source": [
    "for key,val in snap.data.items():\n",
    "    print(\"Species:\", key)\n",
    "    print(val.keys(), end='\\n\\n')"
   ]
  },
  {
   "cell_type": "markdown",
   "id": "e36a6cc6",
   "metadata": {},
   "source": [
    "Note that none of these datasets have actually been loaded yet! Instead, what we have available is a convenient way to access the data via dask."
   ]
  },
  {
   "cell_type": "markdown",
   "id": "8b28d0cd",
   "metadata": {},
   "source": [
    "# [2] Analyzing snapshot data"
   ]
  },
  {
   "cell_type": "markdown",
   "id": "c9cffb98",
   "metadata": {},
   "source": [
    "In order to perform a given analysis on some available snapshot data, we would normally first explicitly load the required data from disk, and then run some calculations on this data (in memory).\n",
    "\n",
    "Instead, with dask, our fields are loaded automatically as well as \"lazily\" -- only when actually required."
   ]
  },
  {
   "cell_type": "markdown",
   "id": "cebe8a42-898d-473b-ac02-7055659bd9c7",
   "metadata": {
    "tags": []
   },
   "source": [
    "## Computing a simple statistic on (all) particles\n",
    "\n",
    "The fields in our snapshot object behave similar to actual numpy arrays. \n",
    "\n",
    "As a first simple example, let's calculate the total mass of gas cells in the entire simulation. Just as in numpy we can write"
   ]
  },
  {
   "cell_type": "code",
   "execution_count": 31,
   "id": "9faf9fa0",
   "metadata": {},
   "outputs": [],
   "source": [
    "masses = snap.data[\"PartType0\"][\"Masses\"]\n",
    "task = mass.sum()"
   ]
  },
  {
   "cell_type": "markdown",
   "id": "9edd3f47",
   "metadata": {},
   "source": [
    "Note that all objects remain 'virtual': they are not calculated or loaded from disk, but are merely the required instructions, encoded into tasks. In a notebook we can inspect these:"
   ]
  },
  {
   "cell_type": "code",
   "execution_count": 32,
   "id": "e0905903",
   "metadata": {},
   "outputs": [
    {
     "data": {
      "text/html": [
       "<table>\n",
       "    <tr>\n",
       "        <td>\n",
       "            <table>\n",
       "                <thead>\n",
       "                    <tr>\n",
       "                        <td> </td>\n",
       "                        <th> Array </th>\n",
       "                        <th> Chunk </th>\n",
       "                    </tr>\n",
       "                </thead>\n",
       "                <tbody>\n",
       "                    \n",
       "                    <tr>\n",
       "                        <th> Bytes </th>\n",
       "                        <td> 70.72 MiB </td>\n",
       "                        <td> 70.72 MiB </td>\n",
       "                    </tr>\n",
       "                    \n",
       "                    <tr>\n",
       "                        <th> Shape </th>\n",
       "                        <td> (18540104,) </td>\n",
       "                        <td> (18540104,) </td>\n",
       "                    </tr>\n",
       "                    <tr>\n",
       "                        <th> Count </th>\n",
       "                        <td> 2 Tasks </td>\n",
       "                        <td> 1 Chunks </td>\n",
       "                    </tr>\n",
       "                    <tr>\n",
       "                    <th> Type </th>\n",
       "                    <td> float32 </td>\n",
       "                    <td> numpy.ndarray </td>\n",
       "                    </tr>\n",
       "                </tbody>\n",
       "            </table>\n",
       "        </td>\n",
       "        <td>\n",
       "        <svg width=\"170\" height=\"75\" style=\"stroke:rgb(0,0,0);stroke-width:1\" >\n",
       "\n",
       "  <!-- Horizontal lines -->\n",
       "  <line x1=\"0\" y1=\"0\" x2=\"120\" y2=\"0\" style=\"stroke-width:2\" />\n",
       "  <line x1=\"0\" y1=\"25\" x2=\"120\" y2=\"25\" style=\"stroke-width:2\" />\n",
       "\n",
       "  <!-- Vertical lines -->\n",
       "  <line x1=\"0\" y1=\"0\" x2=\"0\" y2=\"25\" style=\"stroke-width:2\" />\n",
       "  <line x1=\"120\" y1=\"0\" x2=\"120\" y2=\"25\" style=\"stroke-width:2\" />\n",
       "\n",
       "  <!-- Colored Rectangle -->\n",
       "  <polygon points=\"0.0,0.0 120.0,0.0 120.0,25.412616514582485 0.0,25.412616514582485\" style=\"fill:#ECB172A0;stroke-width:0\"/>\n",
       "\n",
       "  <!-- Text -->\n",
       "  <text x=\"60.000000\" y=\"45.412617\" font-size=\"1.0rem\" font-weight=\"100\" text-anchor=\"middle\" >18540104</text>\n",
       "  <text x=\"140.000000\" y=\"12.706308\" font-size=\"1.0rem\" font-weight=\"100\" text-anchor=\"middle\" transform=\"rotate(0,140.000000,12.706308)\">1</text>\n",
       "</svg>\n",
       "        </td>\n",
       "    </tr>\n",
       "</table>"
      ],
      "text/plain": [
       "dask.array<array, shape=(18540104,), dtype=float32, chunksize=(18540104,), chunktype=numpy.ndarray>"
      ]
     },
     "execution_count": 32,
     "metadata": {},
     "output_type": "execute_result"
    }
   ],
   "source": [
    "masses"
   ]
  },
  {
   "cell_type": "code",
   "execution_count": 33,
   "id": "0f81e9e2",
   "metadata": {},
   "outputs": [
    {
     "data": {
      "text/html": [
       "<table>\n",
       "    <tr>\n",
       "        <td>\n",
       "            <table>\n",
       "                <thead>\n",
       "                    <tr>\n",
       "                        <td> </td>\n",
       "                        <th> Array </th>\n",
       "                        <th> Chunk </th>\n",
       "                    </tr>\n",
       "                </thead>\n",
       "                <tbody>\n",
       "                    \n",
       "                    <tr>\n",
       "                        <th> Bytes </th>\n",
       "                        <td> 4 B </td>\n",
       "                        <td> 4.0 B </td>\n",
       "                    </tr>\n",
       "                    \n",
       "                    <tr>\n",
       "                        <th> Shape </th>\n",
       "                        <td> () </td>\n",
       "                        <td> () </td>\n",
       "                    </tr>\n",
       "                    <tr>\n",
       "                        <th> Count </th>\n",
       "                        <td> 4 Tasks </td>\n",
       "                        <td> 1 Chunks </td>\n",
       "                    </tr>\n",
       "                    <tr>\n",
       "                    <th> Type </th>\n",
       "                    <td> float32 </td>\n",
       "                    <td> numpy.ndarray </td>\n",
       "                    </tr>\n",
       "                </tbody>\n",
       "            </table>\n",
       "        </td>\n",
       "        <td>\n",
       "        \n",
       "        </td>\n",
       "    </tr>\n",
       "</table>"
      ],
      "text/plain": [
       "dask.array<sum-aggregate, shape=(), dtype=float32, chunksize=(), chunktype=numpy.ndarray>"
      ]
     },
     "execution_count": 33,
     "metadata": {},
     "output_type": "execute_result"
    }
   ],
   "source": [
    "task"
   ]
  },
  {
   "cell_type": "markdown",
   "id": "3f81ab05",
   "metadata": {},
   "source": [
    "We can request a calculation of the actual operation(s) by applying the `.compute()` method to the task."
   ]
  },
  {
   "cell_type": "code",
   "execution_count": 9,
   "id": "9eeb63c0",
   "metadata": {},
   "outputs": [
    {
     "data": {
      "text/plain": [
       "57044.957"
      ]
     },
     "execution_count": 9,
     "metadata": {},
     "output_type": "execute_result"
    }
   ],
   "source": [
    "task.compute()"
   ]
  },
  {
   "cell_type": "markdown",
   "id": "61532442-15d8-4186-8e13-1f04c8c06389",
   "metadata": {},
   "source": [
    "## Creating a visualization: projecting onto a 2D image"
   ]
  },
  {
   "cell_type": "markdown",
   "id": "6b44bd67",
   "metadata": {},
   "source": [
    "As an example of calculating something more complicated than just `sum()`, let's do the usual \"poor man's projection\" via a 2D histogram.\n",
    "\n",
    "To do so, we use [da.histogram2d()](https://docs.dask.org/en/latest/array.html) of dask, which is analogous to [numpy.histogram2d()](https://numpy.org/doc/stable/reference/generated/numpy.histogram2d.html), except that it operates on a dask array."
   ]
  },
  {
   "cell_type": "code",
   "execution_count": 39,
   "id": "2e4da5ff",
   "metadata": {},
   "outputs": [],
   "source": [
    "import dask.array as da\n",
    "import numpy as np\n",
    "\n",
    "coords = snap.data[\"PartType0\"][\"Coordinates\"]\n",
    "x = coords[:,0]\n",
    "y = coords[:,1]\n",
    "\n",
    "nbins = 128\n",
    "bins1d = np.linspace(0,snap.header[\"BoxSize\"],nbins+1)\n",
    "\n",
    "result = da.histogram2d(x,y,bins=[bins1d,bins1d])\n",
    "im2d = result[0].compute()"
   ]
  },
  {
   "cell_type": "markdown",
   "id": "34fe3f8f-6e44-4999-bde3-655821e737ee",
   "metadata": {},
   "source": [
    "The resulting `im2d` is just a two-dimensional array which we can display."
   ]
  },
  {
   "cell_type": "code",
   "execution_count": 40,
   "id": "7c10d128-f744-4fd0-8999-cf49e2b31179",
   "metadata": {},
   "outputs": [
    {
     "data": {
      "text/plain": [
       "(128, 128)"
      ]
     },
     "execution_count": 40,
     "metadata": {},
     "output_type": "execute_result"
    }
   ],
   "source": [
    "im2d.shape"
   ]
  },
  {
   "cell_type": "code",
   "execution_count": 43,
   "id": "fd4b8197",
   "metadata": {},
   "outputs": [
    {
     "data": {
      "image/png": "[encoded data removed]",
      "text/plain": [
       "<Figure size 576x576 with 1 Axes>"
      ]
     },
     "metadata": {
      "needs_background": "light"
     },
     "output_type": "display_data"
    }
   ],
   "source": [
    "import matplotlib.pyplot as plt\n",
    "from matplotlib.colors import LogNorm\n",
    "fig = plt.figure(figsize=(8,8))\n",
    "plt.imshow(im2d,norm=LogNorm())\n",
    "plt.show()"
   ]
  },
  {
   "cell_type": "markdown",
   "id": "525ae331",
   "metadata": {},
   "source": [
    "# [3] Scaling up: handling a large simulation"
   ]
  },
  {
   "cell_type": "markdown",
   "id": "c76b964e",
   "metadata": {},
   "source": [
    "Until now, we have applied our framework to a very small simulation. \n",
    "\n",
    "However, what if we are working with a very large simulation (like TNG50-1, with $8^3 = 512$ times more particles/cells)?"
   ]
  },
  {
   "cell_type": "markdown",
   "id": "feac4b1c-d45a-4150-beb7-a47ea8059bc3",
   "metadata": {},
   "source": [
    "## Starting simple: computing in chunks"
   ]
  },
  {
   "cell_type": "markdown",
   "id": "1122b753-9c0a-4447-85ed-65405c1cb315",
   "metadata": {},
   "source": [
    "First, we can still run the same calculation as above, and it will \"just work\" (hopefully).\n",
    "\n",
    "This is because Dask has many versions of common algorithms and functions which work on \"blocks\" or \"chunks\" of the data, which split up the large array into smaller arrays. Work is needed on each chunk, after which the final answer is assembled.\n",
    "\n",
    "Importantly, in our case above, even if the `mass` array above does not fit into memory, the `mass.sum().compute()` will chunk the operation up in a way that the task can be calculated."
   ]
  },
  {
   "cell_type": "code",
   "execution_count": 2,
   "id": "1be63e28-0545-4f52-bc82-42a75da29291",
   "metadata": {},
   "outputs": [
    {
     "name": "stderr",
     "output_type": "stream",
     "text": [
      "WARNING:root:No caching directory specified. Initial file read will remain slow.\n"
     ]
    }
   ],
   "source": [
    "snap_large = ArepoSnapshot(path.replace('TNG50-4','TNG50-2'))"
   ]
  },
  {
   "cell_type": "code",
   "execution_count": 3,
   "id": "48dd9640-196a-40eb-a2ed-9ddb3d2818d3",
   "metadata": {},
   "outputs": [
    {
     "data": {
      "text/plain": [
       "array([1135135195, 1259712000,          0, 1259712000,  103599364,\n",
       "             3955], dtype=uint32)"
      ]
     },
     "execution_count": 3,
     "metadata": {},
     "output_type": "execute_result"
    }
   ],
   "source": [
    "snap_large.header[\"NumPart_Total\"]"
   ]
  },
  {
   "cell_type": "markdown",
   "id": "e27247b3-1cef-4a58-8710-2368b5b9354a",
   "metadata": {},
   "source": [
    "Before we start, let's enable a progress indicator from dask:"
   ]
  },
  {
   "cell_type": "code",
   "execution_count": 4,
   "id": "98f90a0d-1bb1-4926-b8c7-54512bd0aeeb",
   "metadata": {},
   "outputs": [],
   "source": [
    "from dask.diagnostics import ProgressBar\n",
    "ProgressBar().register()"
   ]
  },
  {
   "cell_type": "markdown",
   "id": "0e34ea36-5f92-4b16-b2bc-38d8d8c271a4",
   "metadata": {},
   "source": [
    "And then we can request the actual computation:"
   ]
  },
  {
   "cell_type": "code",
   "execution_count": 5,
   "id": "591c5c47-cb72-41d6-b41a-f307508beb44",
   "metadata": {},
   "outputs": [
    {
     "name": "stdout",
     "output_type": "stream",
     "text": [
      "[########################################] | 100% Completed |  1min 26.1s\n"
     ]
    },
    {
     "data": {
      "text/plain": [
       "54559.98"
      ]
     },
     "execution_count": 5,
     "metadata": {},
     "output_type": "execute_result"
    }
   ],
   "source": [
    "snap_large.data[\"PartType0\"][\"Masses\"].sum().compute()"
   ]
  },
  {
   "cell_type": "markdown",
   "id": "db47063b-519b-465c-bc8a-0ed878071944",
   "metadata": {},
   "source": [
    "While the result is eventually computed, it is a bit slow, primarily because the actual reading of the data off disk is the limiting factor, and this is happening in serial."
   ]
  },
  {
   "cell_type": "markdown",
   "id": "68150ad2-c46b-46b2-9a49-8f07182afb46",
   "metadata": {},
   "source": [
    "## More advanced: computing in parallel"
   ]
  },
  {
   "cell_type": "markdown",
   "id": "63cdaa67-0cff-4c7e-991f-8117f28d3e8b",
   "metadata": {},
   "source": [
    "Rather than sequentially calculating large tasks, we can also run the computation in parallel. \n",
    "\n",
    "To do so different advanced dask schedulers are available. Here, we use the most straight forward [distributed scheduler](https://docs.dask.org/en/latest/how-to/deploy-dask/single-distributed.html).\n",
    "\n",
    "Usually, we would start a scheduler and then connect new workers (e.g. running on multiple compute/backend nodes of a HPC cluster). After, tasks (either interactively or scripted) can leverage the power of these connected resources.\n",
    "\n",
    "For this example, we will use the same \"distributed\" scheduler/API, but keep things simple by using just the one (local) node we are currently running on."
   ]
  },
  {
   "cell_type": "code",
   "execution_count": 10,
   "id": "62a047f0",
   "metadata": {},
   "outputs": [],
   "source": [
    "from dask.distributed import Client, LocalCluster\n",
    "cluster = LocalCluster(n_workers=4,threads_per_worker=1)\n",
    "client = Client(cluster)"
   ]
  },
  {
   "cell_type": "code",
   "execution_count": 11,
   "id": "6cbaf174-e652-4f17-a877-3f8d9c569ac1",
   "metadata": {},
   "outputs": [
    {
     "data": {
      "text/html": [
       "<div>\n",
       "    <div style=\"width: 24px; height: 24px; background-color: #e1e1e1; border: 3px solid #9D9D9D; border-radius: 5px; position: absolute;\"> </div>\n",
       "    <div style=\"margin-left: 48px;\">\n",
       "        <h3 style=\"margin-bottom: 0px;\">Client</h3>\n",
       "        <p style=\"color: #9D9D9D; margin-bottom: 0px;\">Client-c300b6b0-7477-11ec-8f2c-0894ef4ddd0e</p>\n",
       "        <table style=\"width: 100%; text-align: left;\">\n",
       "\n",
       "        <tr>\n",
       "        \n",
       "            <td style=\"text-align: left;\"><strong>Connection method:</strong> Cluster object</td>\n",
       "            <td style=\"text-align: left;\"><strong>Cluster type:</strong> distributed.LocalCluster</td>\n",
       "        \n",
       "        </tr>\n",
       "\n",
       "        \n",
       "            <tr>\n",
       "                <td style=\"text-align: left;\">\n",
       "                    <strong>Dashboard: </strong> <a href=\"http://127.0.0.1:8787/status\" target=\"_blank\">http://127.0.0.1:8787/status</a>\n",
       "                </td>\n",
       "                <td style=\"text-align: left;\"></td>\n",
       "            </tr>\n",
       "        \n",
       "\n",
       "        </table>\n",
       "\n",
       "        \n",
       "            <details>\n",
       "            <summary style=\"margin-bottom: 20px;\"><h3 style=\"display: inline;\">Cluster Info</h3></summary>\n",
       "            <div class=\"jp-RenderedHTMLCommon jp-RenderedHTML jp-mod-trusted jp-OutputArea-output\">\n",
       "    <div style=\"width: 24px; height: 24px; background-color: #e1e1e1; border: 3px solid #9D9D9D; border-radius: 5px; position: absolute;\">\n",
       "    </div>\n",
       "    <div style=\"margin-left: 48px;\">\n",
       "        <h3 style=\"margin-bottom: 0px; margin-top: 0px;\">LocalCluster</h3>\n",
       "        <p style=\"color: #9D9D9D; margin-bottom: 0px;\">6fabb6cc</p>\n",
       "        <table style=\"width: 100%; text-align: left;\">\n",
       "            <tr>\n",
       "                <td style=\"text-align: left;\">\n",
       "                    <strong>Dashboard:</strong> <a href=\"http://127.0.0.1:8787/status\" target=\"_blank\">http://127.0.0.1:8787/status</a>\n",
       "                </td>\n",
       "                <td style=\"text-align: left;\">\n",
       "                    <strong>Workers:</strong> 4\n",
       "                </td>\n",
       "            </tr>\n",
       "            <tr>\n",
       "                <td style=\"text-align: left;\">\n",
       "                    <strong>Total threads:</strong> 4\n",
       "                </td>\n",
       "                <td style=\"text-align: left;\">\n",
       "                    <strong>Total memory:</strong> 377.30 GiB\n",
       "                </td>\n",
       "            </tr>\n",
       "            \n",
       "            <tr>\n",
       "    <td style=\"text-align: left;\"><strong>Status:</strong> running</td>\n",
       "    <td style=\"text-align: left;\"><strong>Using processes:</strong> True</td>\n",
       "</tr>\n",
       "\n",
       "            \n",
       "        </table>\n",
       "\n",
       "        <details>\n",
       "            <summary style=\"margin-bottom: 20px;\">\n",
       "                <h3 style=\"display: inline;\">Scheduler Info</h3>\n",
       "            </summary>\n",
       "\n",
       "            <div style=\"\">\n",
       "    <div>\n",
       "        <div style=\"width: 24px; height: 24px; background-color: #FFF7E5; border: 3px solid #FF6132; border-radius: 5px; position: absolute;\"> </div>\n",
       "        <div style=\"margin-left: 48px;\">\n",
       "            <h3 style=\"margin-bottom: 0px;\">Scheduler</h3>\n",
       "            <p style=\"color: #9D9D9D; margin-bottom: 0px;\">Scheduler-22f481e7-4c2c-4b2a-b98e-ce3b147d3202</p>\n",
       "            <table style=\"width: 100%; text-align: left;\">\n",
       "                <tr>\n",
       "                    <td style=\"text-align: left;\">\n",
       "                        <strong>Comm:</strong> tcp://127.0.0.1:40083\n",
       "                    </td>\n",
       "                    <td style=\"text-align: left;\">\n",
       "                        <strong>Workers:</strong> 4\n",
       "                    </td>\n",
       "                </tr>\n",
       "                <tr>\n",
       "                    <td style=\"text-align: left;\">\n",
       "                        <strong>Dashboard:</strong> <a href=\"http://127.0.0.1:8787/status\" target=\"_blank\">http://127.0.0.1:8787/status</a>\n",
       "                    </td>\n",
       "                    <td style=\"text-align: left;\">\n",
       "                        <strong>Total threads:</strong> 4\n",
       "                    </td>\n",
       "                </tr>\n",
       "                <tr>\n",
       "                    <td style=\"text-align: left;\">\n",
       "                        <strong>Started:</strong> Just now\n",
       "                    </td>\n",
       "                    <td style=\"text-align: left;\">\n",
       "                        <strong>Total memory:</strong> 377.30 GiB\n",
       "                    </td>\n",
       "                </tr>\n",
       "            </table>\n",
       "        </div>\n",
       "    </div>\n",
       "\n",
       "    <details style=\"margin-left: 48px;\">\n",
       "        <summary style=\"margin-bottom: 20px;\">\n",
       "            <h3 style=\"display: inline;\">Workers</h3>\n",
       "        </summary>\n",
       "\n",
       "        \n",
       "        <div style=\"margin-bottom: 20px;\">\n",
       "            <div style=\"width: 24px; height: 24px; background-color: #DBF5FF; border: 3px solid #4CC9FF; border-radius: 5px; position: absolute;\"> </div>\n",
       "            <div style=\"margin-left: 48px;\">\n",
       "            <details>\n",
       "                <summary>\n",
       "                    <h4 style=\"margin-bottom: 0px; display: inline;\">Worker: 0</h4>\n",
       "                </summary>\n",
       "                <table style=\"width: 100%; text-align: left;\">\n",
       "                    <tr>\n",
       "                        <td style=\"text-align: left;\">\n",
       "                            <strong>Comm: </strong> tcp://127.0.0.1:35469\n",
       "                        </td>\n",
       "                        <td style=\"text-align: left;\">\n",
       "                            <strong>Total threads: </strong> 1\n",
       "                        </td>\n",
       "                    </tr>\n",
       "                    <tr>\n",
       "                        <td style=\"text-align: left;\">\n",
       "                            <strong>Dashboard: </strong> <a href=\"http://127.0.0.1:43299/status\" target=\"_blank\">http://127.0.0.1:43299/status</a>\n",
       "                        </td>\n",
       "                        <td style=\"text-align: left;\">\n",
       "                            <strong>Memory: </strong> 94.33 GiB\n",
       "                        </td>\n",
       "                    </tr>\n",
       "                    <tr>\n",
       "                        <td style=\"text-align: left;\">\n",
       "                            <strong>Nanny: </strong> tcp://127.0.0.1:38931\n",
       "                        </td>\n",
       "                        <td style=\"text-align: left;\"></td>\n",
       "                    </tr>\n",
       "                    <tr>\n",
       "                        <td colspan=\"2\" style=\"text-align: left;\">\n",
       "                            <strong>Local directory: </strong> /freya/u/dnelson/darepo/examples/dask-worker-space/worker-_1qiu0aj\n",
       "                        </td>\n",
       "                    </tr>\n",
       "\n",
       "                    \n",
       "\n",
       "                    \n",
       "\n",
       "                </table>\n",
       "            </details>\n",
       "            </div>\n",
       "        </div>\n",
       "        \n",
       "        <div style=\"margin-bottom: 20px;\">\n",
       "            <div style=\"width: 24px; height: 24px; background-color: #DBF5FF; border: 3px solid #4CC9FF; border-radius: 5px; position: absolute;\"> </div>\n",
       "            <div style=\"margin-left: 48px;\">\n",
       "            <details>\n",
       "                <summary>\n",
       "                    <h4 style=\"margin-bottom: 0px; display: inline;\">Worker: 1</h4>\n",
       "                </summary>\n",
       "                <table style=\"width: 100%; text-align: left;\">\n",
       "                    <tr>\n",
       "                        <td style=\"text-align: left;\">\n",
       "                            <strong>Comm: </strong> tcp://127.0.0.1:37441\n",
       "                        </td>\n",
       "                        <td style=\"text-align: left;\">\n",
       "                            <strong>Total threads: </strong> 1\n",
       "                        </td>\n",
       "                    </tr>\n",
       "                    <tr>\n",
       "                        <td style=\"text-align: left;\">\n",
       "                            <strong>Dashboard: </strong> <a href=\"http://127.0.0.1:41067/status\" target=\"_blank\">http://127.0.0.1:41067/status</a>\n",
       "                        </td>\n",
       "                        <td style=\"text-align: left;\">\n",
       "                            <strong>Memory: </strong> 94.33 GiB\n",
       "                        </td>\n",
       "                    </tr>\n",
       "                    <tr>\n",
       "                        <td style=\"text-align: left;\">\n",
       "                            <strong>Nanny: </strong> tcp://127.0.0.1:41099\n",
       "                        </td>\n",
       "                        <td style=\"text-align: left;\"></td>\n",
       "                    </tr>\n",
       "                    <tr>\n",
       "                        <td colspan=\"2\" style=\"text-align: left;\">\n",
       "                            <strong>Local directory: </strong> /freya/u/dnelson/darepo/examples/dask-worker-space/worker-v_rmp0ku\n",
       "                        </td>\n",
       "                    </tr>\n",
       "\n",
       "                    \n",
       "\n",
       "                    \n",
       "\n",
       "                </table>\n",
       "            </details>\n",
       "            </div>\n",
       "        </div>\n",
       "        \n",
       "        <div style=\"margin-bottom: 20px;\">\n",
       "            <div style=\"width: 24px; height: 24px; background-color: #DBF5FF; border: 3px solid #4CC9FF; border-radius: 5px; position: absolute;\"> </div>\n",
       "            <div style=\"margin-left: 48px;\">\n",
       "            <details>\n",
       "                <summary>\n",
       "                    <h4 style=\"margin-bottom: 0px; display: inline;\">Worker: 2</h4>\n",
       "                </summary>\n",
       "                <table style=\"width: 100%; text-align: left;\">\n",
       "                    <tr>\n",
       "                        <td style=\"text-align: left;\">\n",
       "                            <strong>Comm: </strong> tcp://127.0.0.1:44137\n",
       "                        </td>\n",
       "                        <td style=\"text-align: left;\">\n",
       "                            <strong>Total threads: </strong> 1\n",
       "                        </td>\n",
       "                    </tr>\n",
       "                    <tr>\n",
       "                        <td style=\"text-align: left;\">\n",
       "                            <strong>Dashboard: </strong> <a href=\"http://127.0.0.1:45063/status\" target=\"_blank\">http://127.0.0.1:45063/status</a>\n",
       "                        </td>\n",
       "                        <td style=\"text-align: left;\">\n",
       "                            <strong>Memory: </strong> 94.33 GiB\n",
       "                        </td>\n",
       "                    </tr>\n",
       "                    <tr>\n",
       "                        <td style=\"text-align: left;\">\n",
       "                            <strong>Nanny: </strong> tcp://127.0.0.1:33649\n",
       "                        </td>\n",
       "                        <td style=\"text-align: left;\"></td>\n",
       "                    </tr>\n",
       "                    <tr>\n",
       "                        <td colspan=\"2\" style=\"text-align: left;\">\n",
       "                            <strong>Local directory: </strong> /freya/u/dnelson/darepo/examples/dask-worker-space/worker-9skamdf3\n",
       "                        </td>\n",
       "                    </tr>\n",
       "\n",
       "                    \n",
       "\n",
       "                    \n",
       "\n",
       "                </table>\n",
       "            </details>\n",
       "            </div>\n",
       "        </div>\n",
       "        \n",
       "        <div style=\"margin-bottom: 20px;\">\n",
       "            <div style=\"width: 24px; height: 24px; background-color: #DBF5FF; border: 3px solid #4CC9FF; border-radius: 5px; position: absolute;\"> </div>\n",
       "            <div style=\"margin-left: 48px;\">\n",
       "            <details>\n",
       "                <summary>\n",
       "                    <h4 style=\"margin-bottom: 0px; display: inline;\">Worker: 3</h4>\n",
       "                </summary>\n",
       "                <table style=\"width: 100%; text-align: left;\">\n",
       "                    <tr>\n",
       "                        <td style=\"text-align: left;\">\n",
       "                            <strong>Comm: </strong> tcp://127.0.0.1:38165\n",
       "                        </td>\n",
       "                        <td style=\"text-align: left;\">\n",
       "                            <strong>Total threads: </strong> 1\n",
       "                        </td>\n",
       "                    </tr>\n",
       "                    <tr>\n",
       "                        <td style=\"text-align: left;\">\n",
       "                            <strong>Dashboard: </strong> <a href=\"http://127.0.0.1:41317/status\" target=\"_blank\">http://127.0.0.1:41317/status</a>\n",
       "                        </td>\n",
       "                        <td style=\"text-align: left;\">\n",
       "                            <strong>Memory: </strong> 94.33 GiB\n",
       "                        </td>\n",
       "                    </tr>\n",
       "                    <tr>\n",
       "                        <td style=\"text-align: left;\">\n",
       "                            <strong>Nanny: </strong> tcp://127.0.0.1:44573\n",
       "                        </td>\n",
       "                        <td style=\"text-align: left;\"></td>\n",
       "                    </tr>\n",
       "                    <tr>\n",
       "                        <td colspan=\"2\" style=\"text-align: left;\">\n",
       "                            <strong>Local directory: </strong> /freya/u/dnelson/darepo/examples/dask-worker-space/worker-q9_h6o3h\n",
       "                        </td>\n",
       "                    </tr>\n",
       "\n",
       "                    \n",
       "\n",
       "                    \n",
       "\n",
       "                </table>\n",
       "            </details>\n",
       "            </div>\n",
       "        </div>\n",
       "        \n",
       "\n",
       "    </details>\n",
       "</div>\n",
       "\n",
       "        </details>\n",
       "    </div>\n",
       "</div>\n",
       "            </details>\n",
       "        \n",
       "\n",
       "    </div>\n",
       "</div>"
      ],
      "text/plain": [
       "<Client: 'tcp://127.0.0.1:40083' processes=4 threads=4, memory=377.30 GiB>"
      ]
     },
     "execution_count": 11,
     "metadata": {},
     "output_type": "execute_result"
    }
   ],
   "source": [
    "client"
   ]
  },
  {
   "cell_type": "markdown",
   "id": "2464efbf",
   "metadata": {},
   "source": [
    "We can now perform the same operations, but it is performed in a distributed manner, in parallel.\n",
    "\n",
    "One significant advantage is that (even when using only a single node) individual workers will load just the subsets of data they need to work on, meaing that I/O operations become parallel.\n",
    "\n",
    "Note: after creating a `Client()`, all calls to `.compute()` will automatically use this new set of workers."
   ]
  },
  {
   "cell_type": "code",
   "execution_count": 15,
   "id": "18f2bd97-7885-4953-b785-ddc25963a0ca",
   "metadata": {},
   "outputs": [
    {
     "data": {
      "text/plain": [
       "54559.98"
      ]
     },
     "execution_count": 15,
     "metadata": {},
     "output_type": "execute_result"
    }
   ],
   "source": [
    "task = snap_large.data[\"PartType0\"][\"Masses\"].sum()\n",
    "task.compute()"
   ]
  },
  {
   "cell_type": "markdown",
   "id": "a30be9a6-d1f2-4b4a-b25d-b84516eeb169",
   "metadata": {},
   "source": [
    "We can also view the progress of this task as it executes. For the distributed scheduler, a status dashboard exists (as a webpage).\n",
    "\n",
    "You can find it by clicking on the \"Dashboard\" link above. If running this notebook server remotely, e.g. on a login node of a HPC cluster, you may have to change the '127.0.0.1' part of the address to be the same machine name/IP."
   ]
  },
  {
   "cell_type": "markdown",
   "id": "66986ccb",
   "metadata": {},
   "source": [
    "# [4] Units\n",
    "For Arepo simulations, units via 'astropy.units' are available by default. These are hardcoded from the public AREPO and Illustris TNG documentation. Arrays will hold the units upon evalation. "
   ]
  },
  {
   "cell_type": "code",
   "execution_count": 1,
   "id": "31ff0728",
   "metadata": {},
   "outputs": [],
   "source": [
    "from darepo.interfaces.arepo import ArepoSnapshotWithUnits"
   ]
  },
  {
   "cell_type": "code",
   "execution_count": 5,
   "id": "6916a608",
   "metadata": {},
   "outputs": [
    {
     "name": "stderr",
     "output_type": "stream",
     "text": [
      "WARNING:root:No caching directory specified. Initial file read will remain slow.\n"
     ]
    }
   ],
   "source": [
    "snap = ArepoSnapshotWithUnits(path)"
   ]
  },
  {
   "cell_type": "code",
   "execution_count": 13,
   "id": "f4d9a625",
   "metadata": {},
   "outputs": [
    {
     "data": {
      "text/latex": [
       "$64600188 \\; \\mathrm{M_{\\odot}}$"
      ],
      "text/plain": [
       "<Quantity 64600188. solMass>"
      ]
     },
     "execution_count": 13,
     "metadata": {},
     "output_type": "execute_result"
    }
   ],
   "source": [
    "snap.data[\"PartType0\"][\"Masses\"].sum().compute()"
   ]
  },
  {
   "cell_type": "markdown",
   "id": "361a7286-5a16-4ae8-a058-8bb76eb1a130",
   "metadata": {},
   "source": [
    "# [5] Custom Functions"
   ]
  },
  {
   "cell_type": "markdown",
   "id": "99a53b37-f6a3-46e0-b9f4-baad9c26f7bf",
   "metadata": {},
   "source": [
    "(beyond simple statistics/build-in numpy methods)"
   ]
  },
  {
   "cell_type": "code",
   "execution_count": null,
   "id": "d779c4ae-38f1-468c-b98d-fcb11af97741",
   "metadata": {},
   "outputs": [],
   "source": []
  },
  {
   "cell_type": "markdown",
   "id": "3ed860a7-5a5e-44a2-b7b2-317dd8eb5bd4",
   "metadata": {},
   "source": [
    "# [6] Derived Snapshot Fields\n",
    "We can easily add recipes for new fields. For this, we need to define a new function\n",
    "```\n",
    "def field(arrs, **kwargs):\n",
    "    newarr = ...arrs['key']...\n",
    "    return newarr\n",
    "```\n",
    "\n",
    "where 'arrs' is a dictionary holding the keys available for the given data type (e.g. gas) and can be used to deduce new fields. The new function is to be decorated by \n",
    "\n",
    "```\n",
    "@snap.register_field(parttype, name=\"fieldname\")\n",
    "def field(arrs, **kwargs):\n",
    "    ...\n",
    "```\n",
    "\n",
    "if no name is given, the function name will be used for it. See an example below."
   ]
  },
  {
   "cell_type": "code",
   "execution_count": 1,
   "id": "135dff4b",
   "metadata": {},
   "outputs": [
    {
     "name": "stderr",
     "output_type": "stream",
     "text": [
      "WARNING:root:No caching directory specified. Initial file read will remain slow.\n"
     ]
    }
   ],
   "source": [
    "from darepo.interface import ArepoSnapshot\n",
    "path = \"/data/cbyrohl/TNGdata/TNG50-4/output/snapdir_099/\"\n",
    "snap = ArepoSnapshot(path)"
   ]
  },
  {
   "cell_type": "code",
   "execution_count": 16,
   "id": "761f6b54",
   "metadata": {},
   "outputs": [],
   "source": [
    "import astropy.units as u\n",
    "import astropy.constants as const\n",
    "\n",
    "@snap.register_field(\"gas\")\n",
    "def Temperature(arrs, **kwargs):\n",
    "    xh = 0.76\n",
    "    eabu = (arrs['ElectronAbundance'],1.0)\n",
    "    eint = (arrs['InternalEnergy'],(u.km/u.s)**2)\n",
    "    mu = 4.0 / (1.0 + 3 * xh + 4 * xh * eabu[0])\n",
    "    mu_unit = 1.0 /eabu[1] * const.m_p\n",
    "    gamma = 5.0 / 3.0\n",
    "    temp = ((gamma - 1.0) * eint[0] * mu)\n",
    "    temp_unit = (mu_unit * eint[1] /const.k_B).to(u.K)\n",
    "    return (temp*temp_unit).value"
   ]
  },
  {
   "cell_type": "code",
   "execution_count": 17,
   "id": "be71fdd1",
   "metadata": {},
   "outputs": [],
   "source": [
    "temp = snap.data[\"PartType0\"][\"Temperature\"]\n",
    "temp.mean().compute()"
   ]
  },
  {
   "cell_type": "markdown",
   "id": "98c15cef-79a8-4505-a5f2-fdc4daa3de73",
   "metadata": {},
   "source": [
    "# [7] Next Steps"
   ]
  },
  {
   "cell_type": "markdown",
   "id": "80d82d28-6a45-4070-9870-442314866299",
   "metadata": {},
   "source": [
    "(what the caching warning means, how to use some caching)\n",
    "\n",
    "(some links to docs of relevance etc)"
   ]
  }
 ],
 "metadata": {
  "kernelspec": {
   "display_name": "darepo39",
   "language": "python",
   "name": "darepo39"
  },
  "language_info": {
   "codemirror_mode": {
    "name": "ipython",
    "version": 3
   },
   "file_extension": ".py",
   "mimetype": "text/x-python",
   "name": "python",
   "nbconvert_exporter": "python",
   "pygments_lexer": "ipython3",
   "version": "3.9.7"
  }
 },
 "nbformat": 4,
 "nbformat_minor": 5
}

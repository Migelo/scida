{
 "cells": [
  {
   "cell_type": "markdown",
   "id": "acca9637-fe84-4a1a-ba2a-c5831a5006d9",
   "metadata": {},
   "source": [
    "# Getting Started"
   ]
  },
  {
   "cell_type": "markdown",
   "id": "f5c6f686-9412-497c-9694-a553c36cc865",
   "metadata": {},
   "source": [
    "This package is designed to aid in the efficient analysis of large simulations, such as cosmological (hydrodynamical) simulations of large-scale structure.\n",
    "\n",
    "It uses the [dask](https://dask.org/) library to perform computations, which has two key advantages:\n",
    "* (i) very large datasets which cannot normally fit into memory can be analyzed, and\n",
    "* (ii) calculations can be automatically distributed onto parallel 'workers', across one or more nodes, to speed them up."
   ]
  },
  {
   "cell_type": "code",
   "execution_count": 1,
   "id": "f7474f9e",
   "metadata": {},
   "outputs": [],
   "source": [
    "# Notebook config\n",
    "#path = \"../../sims.TNG/TNG50-4/output/snapdir_099/\"\n",
    "path = \"/data/cbyrohl/TNGdata/TNG50-4/output/snapdir_099/\"\n",
    "#path = \"/home/cbyrohl/TNGdata/TNG50-4/output/snapdir_030\""
   ]
  },
  {
   "cell_type": "markdown",
   "id": "3bafbcf1",
   "metadata": {
    "tags": []
   },
   "source": [
    "## Select a simulation and snapshot"
   ]
  },
  {
   "cell_type": "markdown",
   "id": "8e4b3ec1-a0cc-4596-a0d0-b3bced75d22a",
   "metadata": {},
   "source": [
    "The first step is to chose an existing snapshot of a simulation. To start, we will intentionally select the $z=0$ output of TNG50-4, which is the lowest resolution version of TNG50. This means that the size of data in the snapshot is small and easy to work with."
   ]
  },
  {
   "cell_type": "code",
   "execution_count": 2,
   "id": "41d5180c",
   "metadata": {},
   "outputs": [
    {
     "name": "stderr",
     "output_type": "stream",
     "text": [
      "WARNING:root:No caching directory specified. Initial file read will remain slow.\n"
     ]
    }
   ],
   "source": [
    "from astrodask.interfaces.arepo import ArepoSnapshot\n",
    "snap = ArepoSnapshot(path)"
   ]
  },
  {
   "cell_type": "markdown",
   "id": "22ddc3f7",
   "metadata": {},
   "source": [
    "## Get familiar with a snapshot"
   ]
  },
  {
   "cell_type": "markdown",
   "id": "f87fc0a0",
   "metadata": {},
   "source": [
    "### Header metadata\n",
    "The snapshot contains a dictionary for the AREPO simulation header, config and parameters in its namespace. We can inspect the header:"
   ]
  },
  {
   "cell_type": "code",
   "execution_count": 3,
   "id": "2dbe2006",
   "metadata": {},
   "outputs": [
    {
     "data": {
      "text/plain": [
       "{'BoxSize': 35000.0,\n",
       " 'Composition_vector_length': 0,\n",
       " 'Flag_Cooling': 1,\n",
       " 'Flag_DoublePrecision': 0,\n",
       " 'Flag_Feedback': 1,\n",
       " 'Flag_Metals': 0,\n",
       " 'Flag_Sfr': 1,\n",
       " 'Flag_StellarAge': 0,\n",
       " 'Git_commit': b'unknown',\n",
       " 'Git_date': b'unknown',\n",
       " 'HubbleParam': 0.6774,\n",
       " 'MassTable': array([0.        , 0.01573723, 0.        , 0.00293826, 0.        ,\n",
       "        0.        ]),\n",
       " 'NumFilesPerSnapshot': 11,\n",
       " 'NumPart_ThisFile': array([[1728468, 1831882,       0, 1880597,   80303,     331],\n",
       "        [1670262, 1765813,       0, 1774052,   55363,     304],\n",
       "        [1671632, 1774708,       0, 1778657,   46388,     320],\n",
       "        [1750813, 1843665,       0, 1842425,   54654,     344],\n",
       "        [1669237, 1755421,       0, 1757297,   56479,     329],\n",
       "        [1661327, 1762864,       0, 1745473,   54715,     316],\n",
       "        [1667147, 1773846,       0, 1749736,   44611,     304],\n",
       "        [1734838, 1860623,       0, 1822816,   53783,     324],\n",
       "        [1675884, 1750387,       0, 1756475,   52445,     319],\n",
       "        [1653026, 1795059,       0, 1761184,   49953,     284],\n",
       "        [1657470, 1768732,       0, 1814288,   57085,     311]],\n",
       "       dtype=int32),\n",
       " 'NumPart_Total': array([18540104, 19683000,        0, 19683000,   605779,     3486],\n",
       "       dtype=uint32),\n",
       " 'NumPart_Total_HighWord': array([0, 0, 0, 0, 0, 0], dtype=uint32),\n",
       " 'Omega0': 0.3089,\n",
       " 'OmegaBaryon': 0.0486,\n",
       " 'OmegaLambda': 0.6911,\n",
       " 'Redshift': 2.220446049250313e-16,\n",
       " 'Time': 0.9999999999999998,\n",
       " 'UnitLength_in_cm': 3.085678e+21,\n",
       " 'UnitMass_in_g': 1.989e+43,\n",
       " 'UnitVelocity_in_cm_per_s': 100000.0}"
      ]
     },
     "execution_count": 3,
     "metadata": {},
     "output_type": "execute_result"
    }
   ],
   "source": [
    "snap.header"
   ]
  },
  {
   "cell_type": "markdown",
   "id": "bb4870aa",
   "metadata": {},
   "source": [
    "Note that only keys that are the same across all snapshot file chunks are is. \n",
    "Entries which are different for each file, such as `NumPart_ThisFile`, are stacked along the first axis, so that we also have access to this information:"
   ]
  },
  {
   "cell_type": "code",
   "execution_count": 4,
   "id": "7e4d891a",
   "metadata": {},
   "outputs": [
    {
     "data": {
      "text/plain": [
       "array([[1728468, 1831882,       0, 1880597,   80303,     331],\n",
       "       [1670262, 1765813,       0, 1774052,   55363,     304],\n",
       "       [1671632, 1774708,       0, 1778657,   46388,     320],\n",
       "       [1750813, 1843665,       0, 1842425,   54654,     344],\n",
       "       [1669237, 1755421,       0, 1757297,   56479,     329],\n",
       "       [1661327, 1762864,       0, 1745473,   54715,     316],\n",
       "       [1667147, 1773846,       0, 1749736,   44611,     304],\n",
       "       [1734838, 1860623,       0, 1822816,   53783,     324],\n",
       "       [1675884, 1750387,       0, 1756475,   52445,     319],\n",
       "       [1653026, 1795059,       0, 1761184,   49953,     284],\n",
       "       [1657470, 1768732,       0, 1814288,   57085,     311]],\n",
       "      dtype=int32)"
      ]
     },
     "execution_count": 4,
     "metadata": {},
     "output_type": "execute_result"
    }
   ],
   "source": [
    "snap.header['NumPart_ThisFile']"
   ]
  },
  {
   "cell_type": "markdown",
   "id": "9c068f07",
   "metadata": {},
   "source": [
    "### Particle/cell data"
   ]
  },
  {
   "cell_type": "markdown",
   "id": "ba185d31",
   "metadata": {},
   "source": [
    "Within our `snap` object, `snap.data` contains references to all the particle/cell data in this snapshot.\n",
    "\n",
    "If the snapshot is split across multiple file chunks on disk (as is the case for most large cosmological simulations), then these are virtually \"combined\".\n",
    "\n",
    "As a result, there is a single array per field in `snap.data`. Note that these are **not** normal numpy arrays, but are instead **dask arrays**, which we will return to later."
   ]
  },
  {
   "cell_type": "code",
   "execution_count": 5,
   "id": "9f0aaaf5",
   "metadata": {},
   "outputs": [
    {
     "data": {
      "text/plain": [
       "dict_keys(['PartType0', 'PartType1', 'PartType3', 'PartType4', 'PartType5'])"
      ]
     },
     "execution_count": 5,
     "metadata": {},
     "output_type": "execute_result"
    }
   ],
   "source": [
    "snap.data.keys()"
   ]
  },
  {
   "cell_type": "markdown",
   "id": "1a9ce158",
   "metadata": {},
   "source": [
    "Let's list all fields available for the respective particle species."
   ]
  },
  {
   "cell_type": "code",
   "execution_count": 6,
   "id": "22fea0ec",
   "metadata": {},
   "outputs": [
    {
     "name": "stdout",
     "output_type": "stream",
     "text": [
      "Species: PartType0\n",
      "dict_keys(['CenterOfMass', 'Coordinates', 'Density', 'ElectronAbundance', 'EnergyDissipation', 'GFM_AGNRadiation', 'GFM_CoolingRate', 'GFM_Metallicity', 'GFM_Metals', 'GFM_MetalsTagged', 'GFM_WindDMVelDisp', 'GFM_WindHostHaloMass', 'InternalEnergy', 'Machnumber', 'MagneticField', 'MagneticFieldDivergence', 'Masses', 'NeutralHydrogenAbundance', 'ParticleIDs', 'Potential', 'StarFormationRate', 'SubfindDMDensity', 'SubfindDensity', 'SubfindHsml', 'SubfindVelDisp', 'Velocities', 'uid'])\n",
      "\n",
      "Species: PartType1\n",
      "dict_keys(['Coordinates', 'ParticleIDs', 'Potential', 'SubfindDMDensity', 'SubfindDensity', 'SubfindHsml', 'SubfindVelDisp', 'Velocities', 'uid'])\n",
      "\n",
      "Species: PartType3\n",
      "dict_keys(['ParentID', 'TracerID', 'uid'])\n",
      "\n",
      "Species: PartType4\n",
      "dict_keys(['BirthPos', 'BirthVel', 'Coordinates', 'GFM_InitialMass', 'GFM_Metallicity', 'GFM_Metals', 'GFM_MetalsTagged', 'GFM_StellarFormationTime', 'GFM_StellarPhotometrics', 'Masses', 'ParticleIDs', 'Potential', 'StellarHsml', 'SubfindDMDensity', 'SubfindDensity', 'SubfindHsml', 'SubfindVelDisp', 'Velocities', 'uid'])\n",
      "\n",
      "Species: PartType5\n",
      "dict_keys(['BH_BPressure', 'BH_CumEgyInjection_QM', 'BH_CumEgyInjection_RM', 'BH_CumMassGrowth_QM', 'BH_CumMassGrowth_RM', 'BH_Density', 'BH_HostHaloMass', 'BH_Hsml', 'BH_Mass', 'BH_Mdot', 'BH_MdotBondi', 'BH_MdotEddington', 'BH_Pressure', 'BH_Progs', 'BH_U', 'Coordinates', 'Masses', 'ParticleIDs', 'Potential', 'SubfindDMDensity', 'SubfindDensity', 'SubfindHsml', 'SubfindVelDisp', 'Velocities', 'uid'])\n",
      "\n"
     ]
    }
   ],
   "source": [
    "for key,val in snap.data.items():\n",
    "    print(\"Species:\", key)\n",
    "    print(val.keys(), end='\\n\\n')"
   ]
  },
  {
   "cell_type": "markdown",
   "id": "e36a6cc6",
   "metadata": {},
   "source": [
    "Note that none of these datasets have actually been loaded yet! Instead, what we have available is a convenient way to access the data via dask."
   ]
  },
  {
   "cell_type": "markdown",
   "id": "764467ab",
   "metadata": {},
   "source": [
    "### Physical Units"
   ]
  },
  {
   "cell_type": "markdown",
   "id": "7b1c2d5d",
   "metadata": {},
   "source": [
    "When possible, we attach physical units automatically to arrays (using 'astropy.units'). This means that arrays know their units, the user can convert between different units automatically, and expressions and equations involving combinations of units can be verified for correctness.\n",
    "\n",
    "**Warning!** This is dask+astropy.units is not officially supported and this does not seem to work well/at all with some combinations of the packages' versions.\n",
    "\n",
    "Currently, unit support is available for AREPO/Illustris/TNG simulations in particular. Here units are available by default, based on the public documentation. You need to select a snapshot with the `ArepoSnapshotWithUnits` class."
   ]
  },
  {
   "cell_type": "code",
   "execution_count": 7,
   "id": "c5441bb0",
   "metadata": {},
   "outputs": [
    {
     "name": "stderr",
     "output_type": "stream",
     "text": [
      "WARNING:root:No caching directory specified. Initial file read will remain slow.\n"
     ]
    },
    {
     "data": {
      "text/latex": [
       "$8.341815 \\times 10^{14} \\; \\mathrm{M_{\\odot}}$"
      ],
      "text/plain": [
       "<Quantity 8.341815e+14 solMass>"
      ]
     },
     "execution_count": 7,
     "metadata": {},
     "output_type": "execute_result"
    }
   ],
   "source": [
    "from astrodask.interfaces.arepo import ArepoSnapshotWithUnits\n",
    "snap = ArepoSnapshotWithUnits(path)\n",
    "snap.data[\"PartType0\"][\"Masses\"].sum().compute()"
   ]
  },
  {
   "cell_type": "markdown",
   "id": "8b28d0cd",
   "metadata": {},
   "source": [
    "## Analyzing snapshot data"
   ]
  },
  {
   "cell_type": "markdown",
   "id": "c9cffb98",
   "metadata": {},
   "source": [
    "In order to perform a given analysis on some available snapshot data, we would normally first explicitly load the required data from disk, and then run some calculations on this data (in memory).\n",
    "\n",
    "Instead, with dask, our fields are loaded automatically as well as \"lazily\" -- only when actually required."
   ]
  },
  {
   "cell_type": "markdown",
   "id": "cebe8a42-898d-473b-ac02-7055659bd9c7",
   "metadata": {
    "tags": []
   },
   "source": [
    "### Computing a simple statistic on (all) particles\n",
    "\n",
    "The fields in our snapshot object behave similar to actual numpy arrays. \n",
    "\n",
    "As a first simple example, let's calculate the total mass of gas cells in the entire simulation. Just as in numpy we can write"
   ]
  },
  {
   "cell_type": "code",
   "execution_count": 8,
   "id": "9faf9fa0",
   "metadata": {},
   "outputs": [
    {
     "name": "stderr",
     "output_type": "stream",
     "text": [
      "WARNING:root:No caching directory specified. Initial file read will remain slow.\n"
     ]
    }
   ],
   "source": [
    "snap = ArepoSnapshot(path) # reload without units\n",
    "masses = snap.data[\"PartType0\"][\"Masses\"]\n",
    "task = masses.sum()"
   ]
  },
  {
   "cell_type": "markdown",
   "id": "9edd3f47",
   "metadata": {},
   "source": [
    "Note that all objects remain 'virtual': they are not calculated or loaded from disk, but are merely the required instructions, encoded into tasks. In a notebook we can inspect these:"
   ]
  },
  {
   "cell_type": "code",
   "execution_count": 9,
   "id": "e0905903",
   "metadata": {},
   "outputs": [
    {
     "data": {
      "text/html": [
       "<table>\n",
       "    <tr>\n",
       "        <td>\n",
       "            <table>\n",
       "                <thead>\n",
       "                    <tr>\n",
       "                        <td> </td>\n",
       "                        <th> Array </th>\n",
       "                        <th> Chunk </th>\n",
       "                    </tr>\n",
       "                </thead>\n",
       "                <tbody>\n",
       "                    \n",
       "                    <tr>\n",
       "                        <th> Bytes </th>\n",
       "                        <td> 70.72 MiB </td>\n",
       "                        <td> 70.72 MiB </td>\n",
       "                    </tr>\n",
       "                    \n",
       "                    <tr>\n",
       "                        <th> Shape </th>\n",
       "                        <td> (18540104,) </td>\n",
       "                        <td> (18540104,) </td>\n",
       "                    </tr>\n",
       "                    <tr>\n",
       "                        <th> Count </th>\n",
       "                        <td> 2 Tasks </td>\n",
       "                        <td> 1 Chunks </td>\n",
       "                    </tr>\n",
       "                    <tr>\n",
       "                    <th> Type </th>\n",
       "                    <td> float32 </td>\n",
       "                    <td> numpy.ndarray </td>\n",
       "                    </tr>\n",
       "                </tbody>\n",
       "            </table>\n",
       "        </td>\n",
       "        <td>\n",
       "        <svg width=\"170\" height=\"75\" style=\"stroke:rgb(0,0,0);stroke-width:1\" >\n",
       "\n",
       "  <!-- Horizontal lines -->\n",
       "  <line x1=\"0\" y1=\"0\" x2=\"120\" y2=\"0\" style=\"stroke-width:2\" />\n",
       "  <line x1=\"0\" y1=\"25\" x2=\"120\" y2=\"25\" style=\"stroke-width:2\" />\n",
       "\n",
       "  <!-- Vertical lines -->\n",
       "  <line x1=\"0\" y1=\"0\" x2=\"0\" y2=\"25\" style=\"stroke-width:2\" />\n",
       "  <line x1=\"120\" y1=\"0\" x2=\"120\" y2=\"25\" style=\"stroke-width:2\" />\n",
       "\n",
       "  <!-- Colored Rectangle -->\n",
       "  <polygon points=\"0.0,0.0 120.0,0.0 120.0,25.412616514582485 0.0,25.412616514582485\" style=\"fill:#ECB172A0;stroke-width:0\"/>\n",
       "\n",
       "  <!-- Text -->\n",
       "  <text x=\"60.000000\" y=\"45.412617\" font-size=\"1.0rem\" font-weight=\"100\" text-anchor=\"middle\" >18540104</text>\n",
       "  <text x=\"140.000000\" y=\"12.706308\" font-size=\"1.0rem\" font-weight=\"100\" text-anchor=\"middle\" transform=\"rotate(0,140.000000,12.706308)\">1</text>\n",
       "</svg>\n",
       "        </td>\n",
       "    </tr>\n",
       "</table>"
      ],
      "text/plain": [
       "dask.array<array, shape=(18540104,), dtype=float32, chunksize=(18540104,), chunktype=numpy.ndarray>"
      ]
     },
     "execution_count": 9,
     "metadata": {},
     "output_type": "execute_result"
    }
   ],
   "source": [
    "masses"
   ]
  },
  {
   "cell_type": "code",
   "execution_count": 10,
   "id": "0f81e9e2",
   "metadata": {},
   "outputs": [
    {
     "data": {
      "text/html": [
       "<table>\n",
       "    <tr>\n",
       "        <td>\n",
       "            <table>\n",
       "                <thead>\n",
       "                    <tr>\n",
       "                        <td> </td>\n",
       "                        <th> Array </th>\n",
       "                        <th> Chunk </th>\n",
       "                    </tr>\n",
       "                </thead>\n",
       "                <tbody>\n",
       "                    \n",
       "                    <tr>\n",
       "                        <th> Bytes </th>\n",
       "                        <td> 4 B </td>\n",
       "                        <td> 4.0 B </td>\n",
       "                    </tr>\n",
       "                    \n",
       "                    <tr>\n",
       "                        <th> Shape </th>\n",
       "                        <td> () </td>\n",
       "                        <td> () </td>\n",
       "                    </tr>\n",
       "                    <tr>\n",
       "                        <th> Count </th>\n",
       "                        <td> 4 Tasks </td>\n",
       "                        <td> 1 Chunks </td>\n",
       "                    </tr>\n",
       "                    <tr>\n",
       "                    <th> Type </th>\n",
       "                    <td> float32 </td>\n",
       "                    <td> numpy.ndarray </td>\n",
       "                    </tr>\n",
       "                </tbody>\n",
       "            </table>\n",
       "        </td>\n",
       "        <td>\n",
       "        \n",
       "        </td>\n",
       "    </tr>\n",
       "</table>"
      ],
      "text/plain": [
       "dask.array<sum-aggregate, shape=(), dtype=float32, chunksize=(), chunktype=numpy.ndarray>"
      ]
     },
     "execution_count": 10,
     "metadata": {},
     "output_type": "execute_result"
    }
   ],
   "source": [
    "task"
   ]
  },
  {
   "cell_type": "markdown",
   "id": "3f81ab05",
   "metadata": {},
   "source": [
    "We can request a calculation of the actual operation(s) by applying the `.compute()` method to the task."
   ]
  },
  {
   "cell_type": "code",
   "execution_count": 11,
   "id": "9eeb63c0",
   "metadata": {},
   "outputs": [
    {
     "data": {
      "text/plain": [
       "56507.492"
      ]
     },
     "execution_count": 11,
     "metadata": {},
     "output_type": "execute_result"
    }
   ],
   "source": [
    "task.compute()"
   ]
  },
  {
   "cell_type": "markdown",
   "id": "61532442-15d8-4186-8e13-1f04c8c06389",
   "metadata": {},
   "source": [
    "### Creating a visualization: projecting onto a 2D image"
   ]
  },
  {
   "cell_type": "markdown",
   "id": "6b44bd67",
   "metadata": {},
   "source": [
    "As an example of calculating something more complicated than just `sum()`, let's do the usual \"poor man's projection\" via a 2D histogram.\n",
    "\n",
    "To do so, we use [da.histogram2d()](https://docs.dask.org/en/latest/array.html) of dask, which is analogous to [numpy.histogram2d()](https://numpy.org/doc/stable/reference/generated/numpy.histogram2d.html), except that it operates on a dask array."
   ]
  },
  {
   "cell_type": "code",
   "execution_count": 12,
   "id": "2e4da5ff",
   "metadata": {},
   "outputs": [],
   "source": [
    "import dask.array as da\n",
    "import numpy as np\n",
    "\n",
    "coords = snap.data[\"PartType0\"][\"Coordinates\"]\n",
    "x = coords[:,0]\n",
    "y = coords[:,1]\n",
    "\n",
    "nbins = 128\n",
    "bins1d = np.linspace(0,snap.header[\"BoxSize\"],nbins+1)\n",
    "\n",
    "result = da.histogram2d(x,y,bins=[bins1d,bins1d])\n",
    "im2d = result[0].compute()"
   ]
  },
  {
   "cell_type": "markdown",
   "id": "34fe3f8f-6e44-4999-bde3-655821e737ee",
   "metadata": {},
   "source": [
    "The resulting `im2d` is just a two-dimensional array which we can display."
   ]
  },
  {
   "cell_type": "code",
   "execution_count": 13,
   "id": "7c10d128-f744-4fd0-8999-cf49e2b31179",
   "metadata": {},
   "outputs": [
    {
     "data": {
      "text/plain": [
       "(128, 128)"
      ]
     },
     "execution_count": 13,
     "metadata": {},
     "output_type": "execute_result"
    }
   ],
   "source": [
    "im2d.shape"
   ]
  },
  {
   "cell_type": "code",
   "execution_count": 14,
   "id": "fd4b8197",
   "metadata": {
    "scrolled": true
   },
   "outputs": [
    {
     "data": {
      "image/png": "[encoded data removed]",
      "text/plain": [
       "<Figure size 576x576 with 1 Axes>"
      ]
     },
     "metadata": {
      "needs_background": "light"
     },
     "output_type": "display_data"
    }
   ],
   "source": [
    "import matplotlib.pyplot as plt\n",
    "from matplotlib.colors import LogNorm\n",
    "fig = plt.figure(figsize=(8,8))\n",
    "plt.imshow(im2d,norm=LogNorm())\n",
    "plt.show()"
   ]
  },
  {
   "cell_type": "markdown",
   "id": "525ae331",
   "metadata": {},
   "source": [
    "## Scaling up: handling a large simulation"
   ]
  },
  {
   "cell_type": "markdown",
   "id": "c76b964e",
   "metadata": {},
   "source": [
    "Until now, we have applied our framework to a very small simulation. \n",
    "\n",
    "However, what if we are working with a very large simulation (like TNG50-1, with $8^3 = 512$ times more particles/cells)?"
   ]
  },
  {
   "cell_type": "markdown",
   "id": "feac4b1c-d45a-4150-beb7-a47ea8059bc3",
   "metadata": {},
   "source": [
    "### Starting simple: computing in chunks"
   ]
  },
  {
   "cell_type": "markdown",
   "id": "1122b753-9c0a-4447-85ed-65405c1cb315",
   "metadata": {},
   "source": [
    "First, we can still run the same calculation as above, and it will \"just work\" (hopefully).\n",
    "\n",
    "This is because Dask has many versions of common algorithms and functions which work on \"blocks\" or \"chunks\" of the data, which split up the large array into smaller arrays. Work is needed on each chunk, after which the final answer is assembled.\n",
    "\n",
    "Importantly, in our case above, even if the `mass` array above does not fit into memory, the `mass.sum().compute()` will chunk the operation up in a way that the task can be calculated."
   ]
  },
  {
   "cell_type": "code",
   "execution_count": 15,
   "id": "1be63e28-0545-4f52-bc82-42a75da29291",
   "metadata": {},
   "outputs": [],
   "source": [
    "#snap_large = ArepoSnapshot(path.replace('TNG50-4','TNG50-2'))"
   ]
  },
  {
   "cell_type": "code",
   "execution_count": 16,
   "id": "48dd9640-196a-40eb-a2ed-9ddb3d2818d3",
   "metadata": {},
   "outputs": [],
   "source": [
    "#snap_large.header[\"NumPart_Total\"]"
   ]
  },
  {
   "cell_type": "markdown",
   "id": "e27247b3-1cef-4a58-8710-2368b5b9354a",
   "metadata": {},
   "source": [
    "Before we start, let's enable a progress indicator from dask:"
   ]
  },
  {
   "cell_type": "code",
   "execution_count": 17,
   "id": "98f90a0d-1bb1-4926-b8c7-54512bd0aeeb",
   "metadata": {},
   "outputs": [],
   "source": [
    "#from dask.diagnostics import ProgressBar\n",
    "#ProgressBar().register()"
   ]
  },
  {
   "cell_type": "markdown",
   "id": "0e34ea36-5f92-4b16-b2bc-38d8d8c271a4",
   "metadata": {},
   "source": [
    "And then we can request the actual computation:"
   ]
  },
  {
   "cell_type": "code",
   "execution_count": 18,
   "id": "591c5c47-cb72-41d6-b41a-f307508beb44",
   "metadata": {},
   "outputs": [],
   "source": [
    "#snap_large.data[\"PartType0\"][\"Masses\"].sum().compute()"
   ]
  },
  {
   "cell_type": "markdown",
   "id": "db47063b-519b-465c-bc8a-0ed878071944",
   "metadata": {},
   "source": [
    "While the result is eventually computed, it is a bit slow, primarily because the actual reading of the data off disk is the limiting factor, and this is happening in serial."
   ]
  },
  {
   "cell_type": "markdown",
   "id": "68150ad2-c46b-46b2-9a49-8f07182afb46",
   "metadata": {},
   "source": [
    "### More advanced: computing in parallel"
   ]
  },
  {
   "cell_type": "markdown",
   "id": "63cdaa67-0cff-4c7e-991f-8117f28d3e8b",
   "metadata": {},
   "source": [
    "Rather than sequentially calculating large tasks, we can also run the computation in parallel. \n",
    "\n",
    "To do so different advanced dask schedulers are available. Here, we use the most straight forward [distributed scheduler](https://docs.dask.org/en/latest/how-to/deploy-dask/single-distributed.html).\n",
    "\n",
    "Usually, we would start a scheduler and then connect new workers (e.g. running on multiple compute/backend nodes of a HPC cluster). After, tasks (either interactively or scripted) can leverage the power of these connected resources.\n",
    "\n",
    "For this example, we will use the same \"distributed\" scheduler/API, but keep things simple by using just the one (local) node we are currently running on."
   ]
  },
  {
   "cell_type": "code",
   "execution_count": 19,
   "id": "62a047f0",
   "metadata": {},
   "outputs": [
    {
     "name": "stderr",
     "output_type": "stream",
     "text": [
      "/home/cbyrohl/anaconda3/envs/darepo39/lib/python3.9/site-packages/distributed/node.py:160: UserWarning: Port 8787 is already in use.\n",
      "Perhaps you already have a cluster running?\n",
      "Hosting the HTTP server on port 36583 instead\n",
      "  warnings.warn(\n"
     ]
    }
   ],
   "source": [
    "from dask.distributed import Client, LocalCluster\n",
    "cluster = LocalCluster(n_workers=4,threads_per_worker=1)\n",
    "client = Client(cluster)"
   ]
  },
  {
   "cell_type": "code",
   "execution_count": 20,
   "id": "6cbaf174-e652-4f17-a877-3f8d9c569ac1",
   "metadata": {},
   "outputs": [
    {
     "data": {
      "text/html": [
       "<div>\n",
       "    <div style=\"width: 24px; height: 24px; background-color: #e1e1e1; border: 3px solid #9D9D9D; border-radius: 5px; position: absolute;\"> </div>\n",
       "    <div style=\"margin-left: 48px;\">\n",
       "        <h3 style=\"margin-bottom: 0px;\">Client</h3>\n",
       "        <p style=\"color: #9D9D9D; margin-bottom: 0px;\">Client-439c4706-8264-11ec-b609-2cfda17087b0</p>\n",
       "        <table style=\"width: 100%; text-align: left;\">\n",
       "\n",
       "        <tr>\n",
       "        \n",
       "            <td style=\"text-align: left;\"><strong>Connection method:</strong> Cluster object</td>\n",
       "            <td style=\"text-align: left;\"><strong>Cluster type:</strong> distributed.LocalCluster</td>\n",
       "        \n",
       "        </tr>\n",
       "\n",
       "        \n",
       "            <tr>\n",
       "                <td style=\"text-align: left;\">\n",
       "                    <strong>Dashboard: </strong> <a href=\"http://127.0.0.1:36583/status\" target=\"_blank\">http://127.0.0.1:36583/status</a>\n",
       "                </td>\n",
       "                <td style=\"text-align: left;\"></td>\n",
       "            </tr>\n",
       "        \n",
       "\n",
       "        </table>\n",
       "\n",
       "        \n",
       "            <details>\n",
       "            <summary style=\"margin-bottom: 20px;\"><h3 style=\"display: inline;\">Cluster Info</h3></summary>\n",
       "            <div class=\"jp-RenderedHTMLCommon jp-RenderedHTML jp-mod-trusted jp-OutputArea-output\">\n",
       "    <div style=\"width: 24px; height: 24px; background-color: #e1e1e1; border: 3px solid #9D9D9D; border-radius: 5px; position: absolute;\">\n",
       "    </div>\n",
       "    <div style=\"margin-left: 48px;\">\n",
       "        <h3 style=\"margin-bottom: 0px; margin-top: 0px;\">LocalCluster</h3>\n",
       "        <p style=\"color: #9D9D9D; margin-bottom: 0px;\">88530008</p>\n",
       "        <table style=\"width: 100%; text-align: left;\">\n",
       "            <tr>\n",
       "                <td style=\"text-align: left;\">\n",
       "                    <strong>Dashboard:</strong> <a href=\"http://127.0.0.1:36583/status\" target=\"_blank\">http://127.0.0.1:36583/status</a>\n",
       "                </td>\n",
       "                <td style=\"text-align: left;\">\n",
       "                    <strong>Workers:</strong> 4\n",
       "                </td>\n",
       "            </tr>\n",
       "            <tr>\n",
       "                <td style=\"text-align: left;\">\n",
       "                    <strong>Total threads:</strong> 4\n",
       "                </td>\n",
       "                <td style=\"text-align: left;\">\n",
       "                    <strong>Total memory:</strong> 31.35 GiB\n",
       "                </td>\n",
       "            </tr>\n",
       "            \n",
       "            <tr>\n",
       "    <td style=\"text-align: left;\"><strong>Status:</strong> running</td>\n",
       "    <td style=\"text-align: left;\"><strong>Using processes:</strong> True</td>\n",
       "</tr>\n",
       "\n",
       "            \n",
       "        </table>\n",
       "\n",
       "        <details>\n",
       "            <summary style=\"margin-bottom: 20px;\">\n",
       "                <h3 style=\"display: inline;\">Scheduler Info</h3>\n",
       "            </summary>\n",
       "\n",
       "            <div style=\"\">\n",
       "    <div>\n",
       "        <div style=\"width: 24px; height: 24px; background-color: #FFF7E5; border: 3px solid #FF6132; border-radius: 5px; position: absolute;\"> </div>\n",
       "        <div style=\"margin-left: 48px;\">\n",
       "            <h3 style=\"margin-bottom: 0px;\">Scheduler</h3>\n",
       "            <p style=\"color: #9D9D9D; margin-bottom: 0px;\">Scheduler-0eab9298-2a09-47ab-b2c1-b3b6e7e41410</p>\n",
       "            <table style=\"width: 100%; text-align: left;\">\n",
       "                <tr>\n",
       "                    <td style=\"text-align: left;\">\n",
       "                        <strong>Comm:</strong> tcp://127.0.0.1:46023\n",
       "                    </td>\n",
       "                    <td style=\"text-align: left;\">\n",
       "                        <strong>Workers:</strong> 4\n",
       "                    </td>\n",
       "                </tr>\n",
       "                <tr>\n",
       "                    <td style=\"text-align: left;\">\n",
       "                        <strong>Dashboard:</strong> <a href=\"http://127.0.0.1:36583/status\" target=\"_blank\">http://127.0.0.1:36583/status</a>\n",
       "                    </td>\n",
       "                    <td style=\"text-align: left;\">\n",
       "                        <strong>Total threads:</strong> 4\n",
       "                    </td>\n",
       "                </tr>\n",
       "                <tr>\n",
       "                    <td style=\"text-align: left;\">\n",
       "                        <strong>Started:</strong> Just now\n",
       "                    </td>\n",
       "                    <td style=\"text-align: left;\">\n",
       "                        <strong>Total memory:</strong> 31.35 GiB\n",
       "                    </td>\n",
       "                </tr>\n",
       "            </table>\n",
       "        </div>\n",
       "    </div>\n",
       "\n",
       "    <details style=\"margin-left: 48px;\">\n",
       "        <summary style=\"margin-bottom: 20px;\">\n",
       "            <h3 style=\"display: inline;\">Workers</h3>\n",
       "        </summary>\n",
       "\n",
       "        \n",
       "        <div style=\"margin-bottom: 20px;\">\n",
       "            <div style=\"width: 24px; height: 24px; background-color: #DBF5FF; border: 3px solid #4CC9FF; border-radius: 5px; position: absolute;\"> </div>\n",
       "            <div style=\"margin-left: 48px;\">\n",
       "            <details>\n",
       "                <summary>\n",
       "                    <h4 style=\"margin-bottom: 0px; display: inline;\">Worker: 0</h4>\n",
       "                </summary>\n",
       "                <table style=\"width: 100%; text-align: left;\">\n",
       "                    <tr>\n",
       "                        <td style=\"text-align: left;\">\n",
       "                            <strong>Comm: </strong> tcp://127.0.0.1:32815\n",
       "                        </td>\n",
       "                        <td style=\"text-align: left;\">\n",
       "                            <strong>Total threads: </strong> 1\n",
       "                        </td>\n",
       "                    </tr>\n",
       "                    <tr>\n",
       "                        <td style=\"text-align: left;\">\n",
       "                            <strong>Dashboard: </strong> <a href=\"http://127.0.0.1:41207/status\" target=\"_blank\">http://127.0.0.1:41207/status</a>\n",
       "                        </td>\n",
       "                        <td style=\"text-align: left;\">\n",
       "                            <strong>Memory: </strong> 7.84 GiB\n",
       "                        </td>\n",
       "                    </tr>\n",
       "                    <tr>\n",
       "                        <td style=\"text-align: left;\">\n",
       "                            <strong>Nanny: </strong> tcp://127.0.0.1:32851\n",
       "                        </td>\n",
       "                        <td style=\"text-align: left;\"></td>\n",
       "                    </tr>\n",
       "                    <tr>\n",
       "                        <td colspan=\"2\" style=\"text-align: left;\">\n",
       "                            <strong>Local directory: </strong> /data/cbyrohl/repos/darepo/examples/dask-worker-space/worker-1ew81eb2\n",
       "                        </td>\n",
       "                    </tr>\n",
       "\n",
       "                    \n",
       "\n",
       "                    \n",
       "\n",
       "                </table>\n",
       "            </details>\n",
       "            </div>\n",
       "        </div>\n",
       "        \n",
       "        <div style=\"margin-bottom: 20px;\">\n",
       "            <div style=\"width: 24px; height: 24px; background-color: #DBF5FF; border: 3px solid #4CC9FF; border-radius: 5px; position: absolute;\"> </div>\n",
       "            <div style=\"margin-left: 48px;\">\n",
       "            <details>\n",
       "                <summary>\n",
       "                    <h4 style=\"margin-bottom: 0px; display: inline;\">Worker: 1</h4>\n",
       "                </summary>\n",
       "                <table style=\"width: 100%; text-align: left;\">\n",
       "                    <tr>\n",
       "                        <td style=\"text-align: left;\">\n",
       "                            <strong>Comm: </strong> tcp://127.0.0.1:35645\n",
       "                        </td>\n",
       "                        <td style=\"text-align: left;\">\n",
       "                            <strong>Total threads: </strong> 1\n",
       "                        </td>\n",
       "                    </tr>\n",
       "                    <tr>\n",
       "                        <td style=\"text-align: left;\">\n",
       "                            <strong>Dashboard: </strong> <a href=\"http://127.0.0.1:35519/status\" target=\"_blank\">http://127.0.0.1:35519/status</a>\n",
       "                        </td>\n",
       "                        <td style=\"text-align: left;\">\n",
       "                            <strong>Memory: </strong> 7.84 GiB\n",
       "                        </td>\n",
       "                    </tr>\n",
       "                    <tr>\n",
       "                        <td style=\"text-align: left;\">\n",
       "                            <strong>Nanny: </strong> tcp://127.0.0.1:43293\n",
       "                        </td>\n",
       "                        <td style=\"text-align: left;\"></td>\n",
       "                    </tr>\n",
       "                    <tr>\n",
       "                        <td colspan=\"2\" style=\"text-align: left;\">\n",
       "                            <strong>Local directory: </strong> /data/cbyrohl/repos/darepo/examples/dask-worker-space/worker-dfvm3cnt\n",
       "                        </td>\n",
       "                    </tr>\n",
       "\n",
       "                    \n",
       "\n",
       "                    \n",
       "\n",
       "                </table>\n",
       "            </details>\n",
       "            </div>\n",
       "        </div>\n",
       "        \n",
       "        <div style=\"margin-bottom: 20px;\">\n",
       "            <div style=\"width: 24px; height: 24px; background-color: #DBF5FF; border: 3px solid #4CC9FF; border-radius: 5px; position: absolute;\"> </div>\n",
       "            <div style=\"margin-left: 48px;\">\n",
       "            <details>\n",
       "                <summary>\n",
       "                    <h4 style=\"margin-bottom: 0px; display: inline;\">Worker: 2</h4>\n",
       "                </summary>\n",
       "                <table style=\"width: 100%; text-align: left;\">\n",
       "                    <tr>\n",
       "                        <td style=\"text-align: left;\">\n",
       "                            <strong>Comm: </strong> tcp://127.0.0.1:36207\n",
       "                        </td>\n",
       "                        <td style=\"text-align: left;\">\n",
       "                            <strong>Total threads: </strong> 1\n",
       "                        </td>\n",
       "                    </tr>\n",
       "                    <tr>\n",
       "                        <td style=\"text-align: left;\">\n",
       "                            <strong>Dashboard: </strong> <a href=\"http://127.0.0.1:45807/status\" target=\"_blank\">http://127.0.0.1:45807/status</a>\n",
       "                        </td>\n",
       "                        <td style=\"text-align: left;\">\n",
       "                            <strong>Memory: </strong> 7.84 GiB\n",
       "                        </td>\n",
       "                    </tr>\n",
       "                    <tr>\n",
       "                        <td style=\"text-align: left;\">\n",
       "                            <strong>Nanny: </strong> tcp://127.0.0.1:40149\n",
       "                        </td>\n",
       "                        <td style=\"text-align: left;\"></td>\n",
       "                    </tr>\n",
       "                    <tr>\n",
       "                        <td colspan=\"2\" style=\"text-align: left;\">\n",
       "                            <strong>Local directory: </strong> /data/cbyrohl/repos/darepo/examples/dask-worker-space/worker-3v0z70bp\n",
       "                        </td>\n",
       "                    </tr>\n",
       "\n",
       "                    \n",
       "\n",
       "                    \n",
       "\n",
       "                </table>\n",
       "            </details>\n",
       "            </div>\n",
       "        </div>\n",
       "        \n",
       "        <div style=\"margin-bottom: 20px;\">\n",
       "            <div style=\"width: 24px; height: 24px; background-color: #DBF5FF; border: 3px solid #4CC9FF; border-radius: 5px; position: absolute;\"> </div>\n",
       "            <div style=\"margin-left: 48px;\">\n",
       "            <details>\n",
       "                <summary>\n",
       "                    <h4 style=\"margin-bottom: 0px; display: inline;\">Worker: 3</h4>\n",
       "                </summary>\n",
       "                <table style=\"width: 100%; text-align: left;\">\n",
       "                    <tr>\n",
       "                        <td style=\"text-align: left;\">\n",
       "                            <strong>Comm: </strong> tcp://127.0.0.1:39439\n",
       "                        </td>\n",
       "                        <td style=\"text-align: left;\">\n",
       "                            <strong>Total threads: </strong> 1\n",
       "                        </td>\n",
       "                    </tr>\n",
       "                    <tr>\n",
       "                        <td style=\"text-align: left;\">\n",
       "                            <strong>Dashboard: </strong> <a href=\"http://127.0.0.1:37501/status\" target=\"_blank\">http://127.0.0.1:37501/status</a>\n",
       "                        </td>\n",
       "                        <td style=\"text-align: left;\">\n",
       "                            <strong>Memory: </strong> 7.84 GiB\n",
       "                        </td>\n",
       "                    </tr>\n",
       "                    <tr>\n",
       "                        <td style=\"text-align: left;\">\n",
       "                            <strong>Nanny: </strong> tcp://127.0.0.1:46347\n",
       "                        </td>\n",
       "                        <td style=\"text-align: left;\"></td>\n",
       "                    </tr>\n",
       "                    <tr>\n",
       "                        <td colspan=\"2\" style=\"text-align: left;\">\n",
       "                            <strong>Local directory: </strong> /data/cbyrohl/repos/darepo/examples/dask-worker-space/worker-5juzlu7h\n",
       "                        </td>\n",
       "                    </tr>\n",
       "\n",
       "                    \n",
       "\n",
       "                    \n",
       "\n",
       "                </table>\n",
       "            </details>\n",
       "            </div>\n",
       "        </div>\n",
       "        \n",
       "\n",
       "    </details>\n",
       "</div>\n",
       "\n",
       "        </details>\n",
       "    </div>\n",
       "</div>\n",
       "            </details>\n",
       "        \n",
       "\n",
       "    </div>\n",
       "</div>"
      ],
      "text/plain": [
       "<Client: 'tcp://127.0.0.1:46023' processes=4 threads=4, memory=31.35 GiB>"
      ]
     },
     "execution_count": 20,
     "metadata": {},
     "output_type": "execute_result"
    }
   ],
   "source": [
    "client"
   ]
  },
  {
   "cell_type": "markdown",
   "id": "2464efbf",
   "metadata": {},
   "source": [
    "We can now perform the same operations, but it is performed in a distributed manner, in parallel.\n",
    "\n",
    "One significant advantage is that (even when using only a single node) individual workers will load just the subsets of data they need to work on, meaing that I/O operations become parallel.\n",
    "\n",
    "Note: after creating a `Client()`, all calls to `.compute()` will automatically use this new set of workers."
   ]
  },
  {
   "cell_type": "code",
   "execution_count": 21,
   "id": "18f2bd97-7885-4953-b785-ddc25963a0ca",
   "metadata": {},
   "outputs": [],
   "source": [
    "#task = snap_large.data[\"PartType0\"][\"Masses\"].sum()\n",
    "#task.compute()"
   ]
  },
  {
   "cell_type": "markdown",
   "id": "a30be9a6-d1f2-4b4a-b25d-b84516eeb169",
   "metadata": {},
   "source": [
    "We can also view the progress of this task as it executes. For the distributed scheduler, a status dashboard exists (as a webpage).\n",
    "\n",
    "You can find it by clicking on the \"Dashboard\" link above. If running this notebook server remotely, e.g. on a login node of a HPC cluster, you may have to change the '127.0.0.1' part of the address to be the same machine name/IP."
   ]
  },
  {
   "cell_type": "markdown",
   "id": "008df805",
   "metadata": {},
   "source": [
    "## Custom analysis functions\n",
    "\n",
    "TODO\n",
    "(beyond simple statistics/build-in numpy methods)"
   ]
  },
  {
   "cell_type": "markdown",
   "id": "6f17b57e",
   "metadata": {},
   "source": [
    "## Halo and Galaxy Catalogs"
   ]
  },
  {
   "cell_type": "markdown",
   "id": "c9f657e8",
   "metadata": {},
   "source": [
    "Cosmological simulations are often post-processed with a substructure identification algorithm in order to identify halos and galaxies. The resulting catalogs can be loaded and connect with the particle-level snapshot data.\n",
    "\n",
    "Currently, we support the usual FOF/Subfind combination and format. Their presence will be automatically detected and the catalogs will be loaded into `snap.data` as shown below."
   ]
  },
  {
   "cell_type": "code",
   "execution_count": 22,
   "id": "665210a2",
   "metadata": {},
   "outputs": [
    {
     "name": "stderr",
     "output_type": "stream",
     "text": [
      "WARNING:root:No caching directory specified. Initial file read will remain slow.\n",
      "WARNING:root:No caching directory specified. Initial file read will remain slow.\n"
     ]
    },
    {
     "data": {
      "text/html": [
       "<table>\n",
       "    <tr>\n",
       "        <td>\n",
       "            <table>\n",
       "                <thead>\n",
       "                    <tr>\n",
       "                        <td> </td>\n",
       "                        <th> Array </th>\n",
       "                        <th> Chunk </th>\n",
       "                    </tr>\n",
       "                </thead>\n",
       "                <tbody>\n",
       "                    \n",
       "                    <tr>\n",
       "                        <th> Bytes </th>\n",
       "                        <td> 98.66 kiB </td>\n",
       "                        <td> 98.66 kiB </td>\n",
       "                    </tr>\n",
       "                    \n",
       "                    <tr>\n",
       "                        <th> Shape </th>\n",
       "                        <td> (25257,) </td>\n",
       "                        <td> (25257,) </td>\n",
       "                    </tr>\n",
       "                    <tr>\n",
       "                        <th> Count </th>\n",
       "                        <td> 2 Tasks </td>\n",
       "                        <td> 1 Chunks </td>\n",
       "                    </tr>\n",
       "                    <tr>\n",
       "                    <th> Type </th>\n",
       "                    <td> float32 </td>\n",
       "                    <td> numpy.ndarray </td>\n",
       "                    </tr>\n",
       "                </tbody>\n",
       "            </table>\n",
       "        </td>\n",
       "        <td>\n",
       "        <svg width=\"170\" height=\"75\" style=\"stroke:rgb(0,0,0);stroke-width:1\" >\n",
       "\n",
       "  <!-- Horizontal lines -->\n",
       "  <line x1=\"0\" y1=\"0\" x2=\"120\" y2=\"0\" style=\"stroke-width:2\" />\n",
       "  <line x1=\"0\" y1=\"25\" x2=\"120\" y2=\"25\" style=\"stroke-width:2\" />\n",
       "\n",
       "  <!-- Vertical lines -->\n",
       "  <line x1=\"0\" y1=\"0\" x2=\"0\" y2=\"25\" style=\"stroke-width:2\" />\n",
       "  <line x1=\"120\" y1=\"0\" x2=\"120\" y2=\"25\" style=\"stroke-width:2\" />\n",
       "\n",
       "  <!-- Colored Rectangle -->\n",
       "  <polygon points=\"0.0,0.0 120.0,0.0 120.0,25.412616514582485 0.0,25.412616514582485\" style=\"fill:#ECB172A0;stroke-width:0\"/>\n",
       "\n",
       "  <!-- Text -->\n",
       "  <text x=\"60.000000\" y=\"45.412617\" font-size=\"1.0rem\" font-weight=\"100\" text-anchor=\"middle\" >25257</text>\n",
       "  <text x=\"140.000000\" y=\"12.706308\" font-size=\"1.0rem\" font-weight=\"100\" text-anchor=\"middle\" transform=\"rotate(0,140.000000,12.706308)\">1</text>\n",
       "</svg>\n",
       "        </td>\n",
       "    </tr>\n",
       "</table>"
      ],
      "text/plain": [
       "dask.array<array, shape=(25257,), dtype=float32, chunksize=(25257,), chunktype=numpy.ndarray>"
      ]
     },
     "execution_count": 22,
     "metadata": {},
     "output_type": "execute_result"
    }
   ],
   "source": [
    "from astrodask.interfaces.arepo import ArepoSnapshot\n",
    "snap = ArepoSnapshot(path,catalog=path.replace(\"snapdir\",\"groups\"))\n",
    "snap.data[\"Group\"][\"GroupMass\"]"
   ]
  },
  {
   "cell_type": "markdown",
   "id": "f637e491",
   "metadata": {},
   "source": [
    "Normal halo and subhalo catalog properties can then be accessed. Note that it is rarely required to use dask functionality to analyze or plot catalog values, since these arrays are not too large."
   ]
  },
  {
   "cell_type": "markdown",
   "id": "c80c3e59",
   "metadata": {},
   "source": [
    "### Which [sub]halos do particles belong to?\n",
    "\n",
    "As a convenience method, we tag every particle/cell with two additional fields: `GroupID` and `SubhaloID` which give the IDs of the parent \\[sub\\]halos. A value of `-1` indicates the lack of an associated group/subhalo. This allows you to easily select all the members of a \\[sub\\]halo.\n",
    "\n",
    "For example, let's get all group and subhalo IDs for all black holes:"
   ]
  },
  {
   "cell_type": "code",
   "execution_count": 23,
   "id": "275ebc2c",
   "metadata": {},
   "outputs": [
    {
     "name": "stdout",
     "output_type": "stream",
     "text": [
      "Group IDs for chosen particles: [   0    0    0 ... 6335 6960 9712]\n",
      "Subhalo IDs for chosen particles: [0 0 0 ... 0 0 0]\n"
     ]
    }
   ],
   "source": [
    "print(\"Group IDs for chosen particles:\", snap.data[\"PartType5\"][\"GroupID\"].compute())\n",
    "print(\"Subhalo IDs for chosen particles:\", snap.data[\"PartType5\"][\"SubhaloID\"].compute())"
   ]
  },
  {
   "cell_type": "markdown",
   "id": "f3afc53f",
   "metadata": {},
   "source": [
    "### Selecting particles/cells which belong to a particular [sub]halo?\n",
    "We can select all particle data for a given halo ID."
   ]
  },
  {
   "cell_type": "code",
   "execution_count": 24,
   "id": "86672ab2",
   "metadata": {},
   "outputs": [
    {
     "data": {
      "text/html": [
       "<table>\n",
       "    <tr>\n",
       "        <td>\n",
       "            <table>\n",
       "                <thead>\n",
       "                    <tr>\n",
       "                        <td> </td>\n",
       "                        <th> Array </th>\n",
       "                        <th> Chunk </th>\n",
       "                    </tr>\n",
       "                </thead>\n",
       "                <tbody>\n",
       "                    \n",
       "                    <tr>\n",
       "                        <th> Bytes </th>\n",
       "                        <td> 20.09 kiB </td>\n",
       "                        <td> 20.09 kiB </td>\n",
       "                    </tr>\n",
       "                    \n",
       "                    <tr>\n",
       "                        <th> Shape </th>\n",
       "                        <td> (5144,) </td>\n",
       "                        <td> (5144,) </td>\n",
       "                    </tr>\n",
       "                    <tr>\n",
       "                        <th> Count </th>\n",
       "                        <td> 3 Tasks </td>\n",
       "                        <td> 1 Chunks </td>\n",
       "                    </tr>\n",
       "                    <tr>\n",
       "                    <th> Type </th>\n",
       "                    <td> float32 </td>\n",
       "                    <td> numpy.ndarray </td>\n",
       "                    </tr>\n",
       "                </tbody>\n",
       "            </table>\n",
       "        </td>\n",
       "        <td>\n",
       "        <svg width=\"170\" height=\"75\" style=\"stroke:rgb(0,0,0);stroke-width:1\" >\n",
       "\n",
       "  <!-- Horizontal lines -->\n",
       "  <line x1=\"0\" y1=\"0\" x2=\"120\" y2=\"0\" style=\"stroke-width:2\" />\n",
       "  <line x1=\"0\" y1=\"25\" x2=\"120\" y2=\"25\" style=\"stroke-width:2\" />\n",
       "\n",
       "  <!-- Vertical lines -->\n",
       "  <line x1=\"0\" y1=\"0\" x2=\"0\" y2=\"25\" style=\"stroke-width:2\" />\n",
       "  <line x1=\"120\" y1=\"0\" x2=\"120\" y2=\"25\" style=\"stroke-width:2\" />\n",
       "\n",
       "  <!-- Colored Rectangle -->\n",
       "  <polygon points=\"0.0,0.0 120.0,0.0 120.0,25.412616514582485 0.0,25.412616514582485\" style=\"fill:#ECB172A0;stroke-width:0\"/>\n",
       "\n",
       "  <!-- Text -->\n",
       "  <text x=\"60.000000\" y=\"45.412617\" font-size=\"1.0rem\" font-weight=\"100\" text-anchor=\"middle\" >5144</text>\n",
       "  <text x=\"140.000000\" y=\"12.706308\" font-size=\"1.0rem\" font-weight=\"100\" text-anchor=\"middle\" transform=\"rotate(0,140.000000,12.706308)\">1</text>\n",
       "</svg>\n",
       "        </td>\n",
       "    </tr>\n",
       "</table>"
      ],
      "text/plain": [
       "dask.array<getitem, shape=(5144,), dtype=float32, chunksize=(5144,), chunktype=numpy.ndarray>"
      ]
     },
     "execution_count": 24,
     "metadata": {},
     "output_type": "execute_result"
    }
   ],
   "source": [
    "data = snap.return_data(haloID=42) # the result contains all fields for all particle types for a given halo\n",
    "data[\"PartType0\"][\"Density\"] # density for all gas particles in halo"
   ]
  },
  {
   "cell_type": "markdown",
   "id": "85774344",
   "metadata": {},
   "source": [
    "## Operations on particle data for all halos\n",
    "Often we want to perform a data reduction for all data of a given halo. Naively, one would loop over each halo applying the operation needed. This can be both tedious to write and slow. Instead, we can do this kind of operation with the snapshot easily. The operations are put into dask tasks, but also with multiple operations per dask task to reduce overhead."
   ]
  },
  {
   "cell_type": "code",
   "execution_count": 25,
   "id": "e9b61123",
   "metadata": {},
   "outputs": [
    {
     "name": "stderr",
     "output_type": "stream",
     "text": [
      "WARNING:root:No caching directory specified. Initial file read will remain slow.\n",
      "WARNING:root:No caching directory specified. Initial file read will remain slow.\n"
     ]
    }
   ],
   "source": [
    "from astrodask.interfaces.arepo import ArepoSnapshot\n",
    "snap = ArepoSnapshot(path,catalog=path.replace(\"snapdir\",\"groups\"))"
   ]
  },
  {
   "cell_type": "code",
   "execution_count": 26,
   "id": "ccd99b83",
   "metadata": {},
   "outputs": [
    {
     "data": {
      "text/plain": [
       "array([0.24879272, 1.8853719 , 0.2843622 , ..., 0.        , 0.        ,\n",
       "       0.        ], dtype=float32)"
      ]
     },
     "execution_count": 26,
     "metadata": {},
     "output_type": "execute_result"
    }
   ],
   "source": [
    "def calculate_mass(mass, sfrs, fieldnames=[\"Masses\",\"StarFormationRate\"], parttype=\"PartType0\"):\n",
    "    \"\"\"Return all gas mass that is star-forming.\"\"\"\n",
    "    return mass[sfrs>0].sum()\n",
    "\n",
    "totgasmasses_sf = snap.map_halo_operation(calculate_mass).compute()\n",
    "totgasmasses_sf"
   ]
  },
  {
   "cell_type": "markdown",
   "id": "636e71bf",
   "metadata": {},
   "source": [
    "## Derived snapshot fields"
   ]
  },
  {
   "cell_type": "markdown",
   "id": "b8e6b32c",
   "metadata": {},
   "source": [
    "A common analysis task is to convert one or more snapshot fields into a new field. For example, while the temperature, pressure, or entropy of gas is not stored directly in the snapshots, they can be computed from fields which are. \n",
    "\n",
    "We can define such \"derived fields\" by writing their generating function and giving them a name. They can then be \"loaded\" from snapshots as if they were actual datasets -- for analysis, there is no difference between derived and on-disk fields.\n"
   ]
  },
  {
   "cell_type": "markdown",
   "id": "5436c664",
   "metadata": {},
   "source": [
    "### An example: velocity magnitude\n",
    "\n",
    "As a simplest first example, note that the 3-vector of \"Velocities\" is stored in the snapshot for all particle types, but the magnitude is not. We can define a derived field for the stars as:"
   ]
  },
  {
   "cell_type": "code",
   "execution_count": 27,
   "id": "ef4ccd1a",
   "metadata": {},
   "outputs": [],
   "source": [
    "import numpy as np\n",
    "\n",
    "@snap.register_field(\"stars\")\n",
    "def VelMag(arrs, **kwargs):\n",
    "    vel = arrs['Velocities']\n",
    "    return np.sqrt( vel[:,0]**2 + vel[:,1]**2 + vel[:,2]**2 )"
   ]
  },
  {
   "cell_type": "code",
   "execution_count": 28,
   "id": "331b3397",
   "metadata": {},
   "outputs": [
    {
     "data": {
      "text/plain": [
       "1967.6393"
      ]
     },
     "execution_count": 28,
     "metadata": {},
     "output_type": "execute_result"
    }
   ],
   "source": [
    "vmag = snap.data[\"PartType4\"][\"VelMag\"]\n",
    "vmag.max().compute()"
   ]
  },
  {
   "cell_type": "markdown",
   "id": "acd1e3d6",
   "metadata": {},
   "source": [
    "### A second example: gas temperature\n",
    "\n",
    "For example, to compute the gas temperature we need the mean molecular weight,\n",
    "\n",
    "$\\mu = \\frac{4}{ 1 + 3 X_H + 4 X_H x_e } * m_p$\n",
    "\n",
    "Then, the temperature in Kelvin is given by\n",
    "\n",
    "$T = (\\gamma - 1) * u / k_B * \\frac{\\rm{UnitEnergy}}{\\rm{UnitMass}} * \\mu$\n",
    "\n",
    "We can create this derived field (for the standard unit system) as:"
   ]
  },
  {
   "cell_type": "code",
   "execution_count": 29,
   "id": "761f6b54",
   "metadata": {},
   "outputs": [],
   "source": [
    "@snap.register_field(\"gas\")\n",
    "def Temperature(arrs, **kwargs):\n",
    "    \"\"\" Compute gas temperature given (ElectronAbundance,InternalEnergy) in [K]. \"\"\"\n",
    "    xh = 0.76\n",
    "    gamma = 5.0 / 3.0\n",
    "    \n",
    "    m_p = 1.672622e-24 # proton mass [g]\n",
    "    k_B = 1.380650e-16 # boltzmann constant [erg/K]\n",
    "    \n",
    "    UnitEnergy_over_UnitMass = 1e10 # standard unit system (TODO: can obtain from snapshot)\n",
    "    \n",
    "    xe = arrs['ElectronAbundance']\n",
    "    u_internal = arrs['InternalEnergy']\n",
    "    \n",
    "    mu = 4 / (1 + 3*xh + 4*xh*xe) * m_p\n",
    "    temp = (gamma - 1.0) * u_internal / k_B * UnitEnergy_over_UnitMass * mu\n",
    "    \n",
    "    return temp"
   ]
  },
  {
   "cell_type": "markdown",
   "id": "1b71dc29",
   "metadata": {},
   "source": [
    "### Derived fields: reference"
   ]
  },
  {
   "cell_type": "markdown",
   "id": "d55ee986",
   "metadata": {},
   "source": [
    "To create a new derived field we need to define a new function `fieldname(arrs, **kwargs)` whose first argument `arrs` is a dictionary holding the keys available for the given data type (e.g. gas) and can be used to deduce new fields. The new function should structured and decorated as:\n",
    "\n",
    "```python\n",
    "@snap.register_field(parttype, name=\"fieldname\")\n",
    "def fieldname(arrs, **kwargs):\n",
    "    new_field = do_stuff(arrs['key1'], arrs['key2'])\n",
    "    return new_field\n",
    "```\n",
    "\n",
    "if no `name` is given to the decorator, the function name can be used to refer to it."
   ]
  },
  {
   "cell_type": "markdown",
   "id": "98c15cef-79a8-4505-a5f2-fdc4daa3de73",
   "metadata": {},
   "source": [
    "### Next Steps"
   ]
  },
  {
   "cell_type": "markdown",
   "id": "80d82d28-6a45-4070-9870-442314866299",
   "metadata": {},
   "source": [
    "(what the caching warning means, how to use some caching)\n",
    "\n",
    "(some links to docs of relevance etc)"
   ]
  }
 ],
 "metadata": {
  "kernelspec": {
   "display_name": "darepo39",
   "language": "python",
   "name": "darepo39"
  },
  "language_info": {
   "codemirror_mode": {
    "name": "ipython",
    "version": 3
   },
   "file_extension": ".py",
   "mimetype": "text/x-python",
   "name": "python",
   "nbconvert_exporter": "python",
   "pygments_lexer": "ipython3",
   "version": "3.9.7"
  }
 },
 "nbformat": 4,
 "nbformat_minor": 5
}

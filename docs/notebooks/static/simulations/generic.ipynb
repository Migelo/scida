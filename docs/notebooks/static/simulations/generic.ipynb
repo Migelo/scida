{
 "cells": [
  {
   "cell_type": "markdown",
   "id": "469aec11",
   "metadata": {},
   "source": [
    "# Quick glance\n",
    "Lets load a simulation, here it is TNG50, but this should work for any supported simulation.\n",
    "\n",
    "TNG50 is a large simulation with many snapshots. The initial caching will take some time. In the initial caching, each individual snapshot will be cached. By specifying the lazy flag, snapshots are only cached when they are accessed for the first time."
   ]
  },
  {
   "cell_type": "code",
   "execution_count": 1,
   "id": "5a9d9e61",
   "metadata": {},
   "outputs": [],
   "source": [
    "from astrodask import load"
   ]
  },
  {
   "cell_type": "code",
   "execution_count": 2,
   "id": "f57d0d92",
   "metadata": {},
   "outputs": [],
   "source": [
    "dss = load(\"testdata://TNG50\", lazy=True)"
   ]
  },
  {
   "cell_type": "markdown",
   "id": "f6ef6db1",
   "metadata": {},
   "source": [
    "We obtain a snapshot by its index as"
   ]
  },
  {
   "cell_type": "code",
   "execution_count": 4,
   "id": "9418aa86",
   "metadata": {},
   "outputs": [],
   "source": [
    "index = 35\n",
    "ds = dss.get_dataset(index)"
   ]
  },
  {
   "cell_type": "markdown",
   "id": "3cfea2d3",
   "metadata": {},
   "source": [
    "The first call to any function of it will initialize the object, which can take some time if not previously cached."
   ]
  },
  {
   "cell_type": "code",
   "execution_count": 5,
   "id": "e7e34f1c",
   "metadata": {},
   "outputs": [
    {
     "name": "stdout",
     "output_type": "stream",
     "text": [
      "Delay\n",
      "source: /virgotng/universe/IllustrisTNG/L35n2160TNG/output/snapdir_035\n",
      "=== Cosmological Simulation ===\n",
      "z = 1.82\n",
      "cosmology = FlatLambdaCDM(H0=67.74 km / (Mpc s), Om0=0.3089, Tcmb0=0.0 K, Neff=3.04, m_nu=None, Ob0=None)\n",
      "===============================\n",
      "=== data ===\n",
      "+ PartType0 (fields: 4, entries: 9349708529)\n",
      "+ PartType1 (fields: 3, entries: 9349708529)\n",
      "+ PartType3 (fields: 3, entries: 9349708529)\n",
      "+ PartType4 (fields: 3, entries: 9349708529)\n",
      "+ PartType5 (fields: 3, entries: 9349708529)\n",
      "+ Group (fields: 4, entries: 10507872)\n",
      "+ Subhalo\n",
      "============\n",
      "\n"
     ]
    }
   ],
   "source": [
    "ds.info()"
   ]
  },
  {
   "cell_type": "code",
   "execution_count": null,
   "id": "fb2c1307",
   "metadata": {},
   "outputs": [],
   "source": [
    "arr = ds.data[\"PartType0\"][\"Density\"]\n",
    "arr"
   ]
  }
 ],
 "metadata": {
  "kernelspec": {
   "display_name": "astrodask",
   "language": "python",
   "name": "astrodask"
  },
  "language_info": {
   "codemirror_mode": {
    "name": "ipython",
    "version": 3
   },
   "file_extension": ".py",
   "mimetype": "text/x-python",
   "name": "python",
   "nbconvert_exporter": "python",
   "pygments_lexer": "ipython3",
   "version": "3.9.11"
  }
 },
 "nbformat": 4,
 "nbformat_minor": 5
}

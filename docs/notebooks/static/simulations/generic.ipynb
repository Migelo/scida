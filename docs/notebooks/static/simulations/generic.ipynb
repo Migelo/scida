{
 "cells": [
  {
   "cell_type": "code",
   "execution_count": null,
   "id": "5a9d9e61",
   "metadata": {},
   "outputs": [],
   "source": [
    "from astrodask import load"
   ]
  },
  {
   "cell_type": "markdown",
   "id": "469aec11",
   "metadata": {},
   "source": [
    "# Quick glance"
   ]
  },
  {
   "cell_type": "code",
   "execution_count": null,
   "id": "f57d0d92",
   "metadata": {},
   "outputs": [],
   "source": [
    "%time ds = load(\"testdata://TNG50-2_snapshot\")"
   ]
  },
  {
   "cell_type": "code",
   "execution_count": null,
   "id": "9418aa86",
   "metadata": {},
   "outputs": [],
   "source": [
    "ds"
   ]
  },
  {
   "cell_type": "code",
   "execution_count": null,
   "id": "9a9cf012",
   "metadata": {},
   "outputs": [],
   "source": [
    "ds.info()"
   ]
  }
 ],
 "metadata": {
  "kernelspec": {
   "display_name": "astrodask",
   "language": "python",
   "name": "astrodask"
  },
  "language_info": {
   "codemirror_mode": {
    "name": "ipython",
    "version": 3
   },
   "file_extension": ".py",
   "mimetype": "text/x-python",
   "name": "python",
   "nbconvert_exporter": "python",
   "pygments_lexer": "ipython3"
  }
 },
 "nbformat": 4,
 "nbformat_minor": 5
}

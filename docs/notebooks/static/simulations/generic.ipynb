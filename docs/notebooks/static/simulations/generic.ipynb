{
 "cells": [
  {
   "cell_type": "markdown",
   "id": "469aec11",
   "metadata": {},
   "source": [
    "# Quick glance\n",
    "Lets load a simulation, here it is TNG50, but this should work for any supported simulation.\n",
    "\n",
    "TNG50 is a large simulation with many snapshots. The initial caching will take some time. In the initial caching, each individual snapshot will be cached. By specifying the lazy flag, snapshots are only cached when they are accessed for the first time."
   ]
  },
  {
   "cell_type": "code",
   "execution_count": 1,
   "id": "5a9d9e61",
   "metadata": {},
   "outputs": [],
   "source": [
    "from astrodask import load"
   ]
  },
  {
   "cell_type": "code",
   "execution_count": 2,
   "id": "f57d0d92",
   "metadata": {},
   "outputs": [],
   "source": [
    "dss = load(\"testdata://TNG50\", lazy=True)"
   ]
  },
  {
   "cell_type": "markdown",
   "id": "b213b860",
   "metadata": {},
   "source": [
    "We obtain a snapshot by its index as"
   ]
  },
  {
   "cell_type": "code",
   "execution_count": 3,
   "id": "9418aa86",
   "metadata": {},
   "outputs": [],
   "source": [
    "index = 35\n",
    "ds = dss.get_dataset(index)"
   ]
  },
  {
   "cell_type": "markdown",
   "id": "0f7c2a9f",
   "metadata": {},
   "source": [
    "The first call to any function of it will initialize the object, which can take some time if not previously cached."
   ]
  },
  {
   "cell_type": "code",
   "execution_count": 4,
   "id": "7a8a9dd8",
   "metadata": {},
   "outputs": [
    {
     "name": "stdout",
     "output_type": "stream",
     "text": [
      "Delay\n",
      "source: /virgotng/universe/IllustrisTNG/L35n2160TNG/output/snapdir_035\n",
      "=== Cosmological Simulation ===\n",
      "z = 1.82\n",
      "cosmology = FlatLambdaCDM(H0=67.74 km / (Mpc s), Om0=0.3089, Tcmb0=0.0 K, Neff=3.04, m_nu=None, Ob0=None)\n",
      "===============================\n",
      "=== data ===\n",
      "+ PartType0 (fields: 4, entries: 9349708529)\n",
      "+ PartType1 (fields: 3, entries: 9349708529)\n",
      "+ PartType3 (fields: 3, entries: 9349708529)\n",
      "+ PartType4 (fields: 3, entries: 9349708529)\n",
      "+ PartType5 (fields: 3, entries: 9349708529)\n",
      "+ Group (fields: 4, entries: 10507872)\n",
      "+ Subhalo\n",
      "============\n",
      "\n"
     ]
    }
   ],
   "source": [
    "ds.info()"
   ]
  },
  {
   "cell_type": "code",
   "execution_count": 5,
   "id": "96c9bae5",
   "metadata": {},
   "outputs": [
    {
     "data": {
      "text/html": [
       "<table>\n",
       "    <tr>\n",
       "        <td>\n",
       "            <table style=\"border-collapse: collapse;\">\n",
       "                <thead>\n",
       "                    <tr>\n",
       "                        <td> </td>\n",
       "                        <th> Array </th>\n",
       "                        <th> Chunk </th>\n",
       "                    </tr>\n",
       "                </thead>\n",
       "                <tbody>\n",
       "                    \n",
       "                    <tr>\n",
       "                        <th> Bytes </th>\n",
       "                        <td> 34.83 GiB </td>\n",
       "                        <td> 128.00 MiB </td>\n",
       "                    </tr>\n",
       "                    \n",
       "                    <tr>\n",
       "                        <th> Shape </th>\n",
       "                        <td> (9349708529,) </td>\n",
       "                        <td> (33554432,) </td>\n",
       "                    </tr>\n",
       "                    <tr>\n",
       "                        <th> Dask graph </th>\n",
       "                        <td colspan=\"2\"> 279 chunks in 2 graph layers </td>\n",
       "                    </tr>\n",
       "                    <tr>\n",
       "                        <th> Data type </th>\n",
       "                        <td colspan=\"2\"> float32 numpy.ndarray </td>\n",
       "                    </tr>\n",
       "                </tbody>\n",
       "            </table>\n",
       "        </td>\n",
       "        <td>\n",
       "        <svg width=\"170\" height=\"75\" style=\"stroke:rgb(0,0,0);stroke-width:1\" >\n",
       "\n",
       "  <!-- Horizontal lines -->\n",
       "  <line x1=\"0\" y1=\"0\" x2=\"120\" y2=\"0\" style=\"stroke-width:2\" />\n",
       "  <line x1=\"0\" y1=\"25\" x2=\"120\" y2=\"25\" style=\"stroke-width:2\" />\n",
       "\n",
       "  <!-- Vertical lines -->\n",
       "  <line x1=\"0\" y1=\"0\" x2=\"0\" y2=\"25\" style=\"stroke-width:2\" />\n",
       "  <line x1=\"6\" y1=\"0\" x2=\"6\" y2=\"25\" />\n",
       "  <line x1=\"12\" y1=\"0\" x2=\"12\" y2=\"25\" />\n",
       "  <line x1=\"18\" y1=\"0\" x2=\"18\" y2=\"25\" />\n",
       "  <line x1=\"24\" y1=\"0\" x2=\"24\" y2=\"25\" />\n",
       "  <line x1=\"31\" y1=\"0\" x2=\"31\" y2=\"25\" />\n",
       "  <line x1=\"37\" y1=\"0\" x2=\"37\" y2=\"25\" />\n",
       "  <line x1=\"43\" y1=\"0\" x2=\"43\" y2=\"25\" />\n",
       "  <line x1=\"50\" y1=\"0\" x2=\"50\" y2=\"25\" />\n",
       "  <line x1=\"56\" y1=\"0\" x2=\"56\" y2=\"25\" />\n",
       "  <line x1=\"62\" y1=\"0\" x2=\"62\" y2=\"25\" />\n",
       "  <line x1=\"69\" y1=\"0\" x2=\"69\" y2=\"25\" />\n",
       "  <line x1=\"75\" y1=\"0\" x2=\"75\" y2=\"25\" />\n",
       "  <line x1=\"81\" y1=\"0\" x2=\"81\" y2=\"25\" />\n",
       "  <line x1=\"88\" y1=\"0\" x2=\"88\" y2=\"25\" />\n",
       "  <line x1=\"94\" y1=\"0\" x2=\"94\" y2=\"25\" />\n",
       "  <line x1=\"100\" y1=\"0\" x2=\"100\" y2=\"25\" />\n",
       "  <line x1=\"107\" y1=\"0\" x2=\"107\" y2=\"25\" />\n",
       "  <line x1=\"113\" y1=\"0\" x2=\"113\" y2=\"25\" />\n",
       "  <line x1=\"120\" y1=\"0\" x2=\"120\" y2=\"25\" style=\"stroke-width:2\" />\n",
       "\n",
       "  <!-- Colored Rectangle -->\n",
       "  <polygon points=\"0.0,0.0 120.0,0.0 120.0,25.412616514582485 0.0,25.412616514582485\" style=\"fill:#8B4903A0;stroke-width:0\"/>\n",
       "\n",
       "  <!-- Text -->\n",
       "  <text x=\"60.000000\" y=\"45.412617\" font-size=\"1.0rem\" font-weight=\"100\" text-anchor=\"middle\" >9349708529</text>\n",
       "  <text x=\"140.000000\" y=\"12.706308\" font-size=\"1.0rem\" font-weight=\"100\" text-anchor=\"middle\" transform=\"rotate(0,140.000000,12.706308)\">1</text>\n",
       "</svg>\n",
       "        </td>\n",
       "    </tr>\n",
       "</table>"
      ],
      "text/plain": [
       "dask.array<Dataset_PartType0_Density, shape=(9349708529,), dtype=float32, chunksize=(33554432,), chunktype=numpy.ndarray>"
      ]
     },
     "execution_count": 5,
     "metadata": {},
     "output_type": "execute_result"
    }
   ],
   "source": [
    "arr = ds.data[\"PartType0\"][\"Density\"]\n",
    "arr"
   ]
  }
 ],
 "metadata": {
  "kernelspec": {
   "display_name": "astrodask",
   "language": "python",
   "name": "astrodask"
  },
  "language_info": {
   "codemirror_mode": {
    "name": "ipython",
    "version": 3
   },
   "file_extension": ".py",
   "mimetype": "text/x-python",
   "name": "python",
   "nbconvert_exporter": "python",
   "pygments_lexer": "ipython3",
   "version": "3.9.11"
  }
 },
 "nbformat": 4,
 "nbformat_minor": 5
}

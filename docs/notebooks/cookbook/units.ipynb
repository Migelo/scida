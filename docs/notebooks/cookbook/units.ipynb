{
 "cells": [
  {
   "cell_type": "markdown",
   "id": "6641d87c-46a2-4877-b25b-42b40c038bc8",
   "metadata": {},
   "source": [
    "# Loading data with units\n",
    "Pass **units=True** as keyword. This will load as code units by default. Alternatively, we can use units=\"cgs\". Units are introduced via the [pint](https://pint.readthedocs.io/en/latest/) package, see there for more details."
   ]
  },
  {
   "cell_type": "code",
   "execution_count": null,
   "id": "8144380b-2729-40cc-8bfb-af6e15e702fd",
   "metadata": {},
   "outputs": [],
   "source": [
    "from scida import load\n",
    "ds = load(\"testdata://TNG50-4_snapshot\", units=True)  # units=True equals units=\"code\"\n",
    "gas = ds.data[\"PartType0\"]"
   ]
  },
  {
   "cell_type": "markdown",
   "id": "08ee5a74-c69c-4a35-b1b0-01dbfdfcc850",
   "metadata": {},
   "source": [
    "Instead of just an array of values, fields now consist of a magnitude and unit, this also shows in the dask arrays representation"
   ]
  },
  {
   "cell_type": "markdown",
   "id": "530fd69e-b037-440b-9a62-0be70198ad74",
   "metadata": {},
   "source": [
    "# Basics\n",
    "## Evaluating fields and their units"
   ]
  },
  {
   "cell_type": "code",
   "execution_count": null,
   "id": "236a4279-9f23-4090-abf1-102c333cd5c4",
   "metadata": {},
   "outputs": [],
   "source": [
    "gas[\"Coordinates\"]"
   ]
  },
  {
   "cell_type": "code",
   "execution_count": null,
   "id": "19174d80-bebd-41ff-bc2c-60c65e205b80",
   "metadata": {},
   "outputs": [],
   "source": [
    "# calculate magnitude (of first entry) and units\n",
    "gas[\"Coordinates\"][0].magnitude.compute(), gas[\"Coordinates\"].units"
   ]
  },
  {
   "cell_type": "markdown",
   "id": "86c7996e-c965-4ae8-bc73-4be50f45a67d",
   "metadata": {},
   "source": [
    "We can change units for evaluation as desired"
   ]
  },
  {
   "cell_type": "code",
   "execution_count": null,
   "id": "376d0077-b641-433d-8549-2cb51d464fef",
   "metadata": {},
   "outputs": [],
   "source": [
    "coords = gas[\"Coordinates\"]\n",
    "coords.to(\"cm\") \n",
    "# here the default system is cgs, thus we get the same result from\n",
    "coords.to_base_units()"
   ]
  },
  {
   "cell_type": "markdown",
   "id": "1da60b22-93ad-424c-a1e4-bc56dab6abec",
   "metadata": {},
   "source": [
    "## The unit registry\n",
    "The unit registry keeps all units. There is no global registry, but each dataset has its own registry as attribute **ureg**."
   ]
  },
  {
   "cell_type": "code",
   "execution_count": null,
   "id": "d2bea295-ed26-41ac-8855-2783ac5f64c9",
   "metadata": {},
   "outputs": [],
   "source": [
    "ureg = ds.ureg\n",
    "# get the unit meter\n",
    "ureg(\"m\")"
   ]
  },
  {
   "cell_type": "code",
   "execution_count": null,
   "id": "fb5caf1d-703c-47c9-9050-7ddfd9383ba9",
   "metadata": {},
   "outputs": [],
   "source": [
    "# define an array with units meter (dask arrays analogously)\n",
    "import numpy as np\n",
    "np.arange(10) * ureg(\"m\")"
   ]
  },
  {
   "cell_type": "markdown",
   "id": "de75ec74-219c-429b-957d-98826cdfe41e",
   "metadata": {},
   "source": [
    "## Synthesize new dask arrays with units\n",
    "Defining new arrays from existing arrays will keep their units accordingly."
   ]
  },
  {
   "cell_type": "code",
   "execution_count": null,
   "id": "1803db7d-51aa-406b-be96-81909837f0fe",
   "metadata": {},
   "outputs": [],
   "source": [
    "energy_restframe = (gas[\"Masses\"]*ureg(\"c\")**2).to(\"erg\")  # E=mc^2\n",
    "energy_restframe"
   ]
  },
  {
   "cell_type": "markdown",
   "id": "a28057b5-36cc-4496-bc4e-efa6935b638a",
   "metadata": {},
   "source": [
    "## Custom units\n",
    "We can introduce and evaluate to custom units."
   ]
  },
  {
   "cell_type": "code",
   "execution_count": null,
   "id": "37c6a353-04ca-4622-acd4-d188292cb0f2",
   "metadata": {},
   "outputs": [],
   "source": [
    "ureg.define(\"halfmeter = 0.5 * m\")\n",
    "# first particle coordinates in halfmeters\n",
    "coords.to(\"halfmeter\")[0].compute()"
   ]
  }
 ],
 "metadata": {
  "kernelspec": {
   "display_name": "scida",
   "language": "python",
   "name": "scida"
  },
  "language_info": {
   "codemirror_mode": {
    "name": "ipython",
    "version": 3
   },
   "file_extension": ".py",
   "mimetype": "text/x-python",
   "name": "python",
   "nbconvert_exporter": "python",
   "pygments_lexer": "ipython3",
   "version": "3.9.2"
  }
 },
 "nbformat": 4,
 "nbformat_minor": 5
}
